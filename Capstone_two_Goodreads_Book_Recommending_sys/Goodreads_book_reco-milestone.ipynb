{
 "cells": [
  {
   "cell_type": "markdown",
   "metadata": {},
   "source": [
    "# Books Recommendation system - Milestone Report\n",
    "## Capstone Project Two : Springboard Data Science career track\n",
    "### Notebook by Debisree Ray\n",
    "\n",
    "For Source code and the details of Data wrangling and EDA, please visit the following notebook:\n",
    "https://github.com/debisree/Springboard-Data-Science-Career-Track/blob/master/Capstone_two_Goodreads_Book_Recommending_sys/Goodreads_book_reco.ipynb\n",
    "\n",
    "\n",
    "### Acknowledgement:\n",
    "* Mentor: Max Sop\n",
    "\n",
    "* Springboard Team\n",
    "\n",
    "* The data for this project originally comes from the GoodReads.com website. It was collected and made available by Zygmunt Zając on GitHub (https://github.com/zygmuntz/goodbooks-10k).\n",
    "\n",
    "* Cover image: Internet"
   ]
  },
  {
   "cell_type": "markdown",
   "metadata": {},
   "source": [
    "## 1. Introduction - The Problem:\n",
    "\n",
    "Online recommendation systems are the ‘in’ thing to do for many e-commerce websites. A recommendation system broadly recommends products to customers best suited to their tastes and traits. This project is focused around building various kinds of book recommendation engines; namely the Simple Generic Recommender, the Content-Based Filter and the User-Based Collaborative Filter. The performance of the systems will be evaluated in both a qualitative and quantitative manner.\n",
    "\n",
    "<img src=\"book.png\" align=\"center\" width=\"100%\"/>"
   ]
  },
  {
   "cell_type": "markdown",
   "metadata": {},
   "source": [
    "## 2. The Client:\n",
    "\n",
    "Any E-commerce business website or online book-selling portal is the potential customer."
   ]
  },
  {
   "cell_type": "markdown",
   "metadata": {},
   "source": [
    "### 3. The Data:\n",
    "The data is originally from the GoodReads.com website. It was collected and made available by Zygmunt Zając on GitHub (https://github.com/zygmuntz/goodbooks-10k).\n",
    "\n",
    "\n",
    "* **'books.csv:'** \n",
    "   There are 10,000 books in this dataset. Descriptions of the columns are as follows: \n",
    "   \n",
    "   \n",
    "  * **book_id:** Unique ID identifying the books 📚 \n",
    "  * **goodreads_book_id:** Unique ID\n",
    "  * **best_book_id:** Unique ID similar to the Goodreads book ID.\n",
    "  * **work_id:** ?\n",
    "  * **books_count:** the number of editions for a given work.\n",
    "  * **isbn:** Unique ID identifying the book.\n",
    "  * **isbn13:** ?\n",
    "  * **authors:** the authors(s) name.\n",
    "  * **original_publication_year:** (9979 non-null)\n",
    "  * **original_title:** (9415 non-null)\n",
    "  * **title:** similar to original_title and includes the order it appears in a books series.\n",
    "  * **language_code:** unclear if this is the language of the original edition or post popular edition. (8916 non-null, object)\n",
    "  * **average_rating:** the mean rating out of 1-5 stars.\n",
    "  * **ratings_count:** presumably, the number of unique users who have rated this book. It is lower than work_ratings_count.\n",
    "  * **work_ratings_count:** number of total ratings a book received, may include multiple ratings per user?\n",
    "  * **work_text_reviews_count:** number of written reviews, which is different than numerical ratings (number of stars).\n",
    "  * **ratings_1:** number of 1-star ratings\n",
    "  * **ratings_2:** number of 2-star ratings\n",
    "  * **ratings_3:** number of 3-star ratings\n",
    "  * **ratings_4:** number of 4-star ratings\n",
    "  * **ratings_5:** number of 5-star ratings\n",
    "  \n",
    "* **'ratings.csv:'**\n",
    "  On a scale of 1-5, how did the user rate a book? The list contains 5,976,479 book-user pairs and 53,424 unique users. The columns are as follows: \n",
    "  \n",
    "  * **user_id:**\n",
    "  * **book_id:**\n",
    "  * **rating (1, 2, 3, 4, or 5):**\n",
    "\n",
    "* **'to_read.csv:'** \n",
    "  Each entry represent a book that a user wants to read. There are 912,705 pair-wise entries. The columns are as follows: \n",
    "  \n",
    "  * **user_id:**\n",
    "  * **book_id:**\n",
    "\n",
    "* **'tags.csv:'** \n",
    "  A list of user-created tags. These vary widely from genres to “16th-century” to “30-books-to-read-before-30”. There are 534,252 unique tag names. The columns are as follows: \n",
    "  \n",
    "  * **tag_id:**\n",
    "  * **tag_name:**\n",
    "\n",
    "* **'book_tags.csv:'** \n",
    "   The number of times each tag was given to a specific book. The list contains 999,912 book-tag pairs. The columns are as follows: \n",
    "   * **goodreads_book_id:**\n",
    "   * **tag_id:**\n",
    "   * **count:**\n",
    "\n"
   ]
  },
  {
   "cell_type": "markdown",
   "metadata": {},
   "source": [
    "### 1. book_tags.csv:\n",
    "\n",
    "* 'book_tags.csv' has three columns. \n",
    "* There are 999912 entries with no missing values.\n",
    "* First two columns are categorical values showing Goodreads book-ID and Tag-ID.\n",
    "* 10000 unique Book IDs are there.\n",
    "* The third column is a numeric one showing the no. of counts for each tag-IDs.\n",
    "* Maximum no. of counts of any tag-ID is 50938 (Tag-ID = 4)\n",
    "* Minimum no. of counts of any tag-ID is 1\n",
    "* 34252 unique tag IDs are there.\n",
    "* 49.9% of the tag-IDs are used more than once. So, referred tham as 'popular'\n",
    "* 50.1% of the tag-IDs are used just once. So referred then as 'Non popular'.\n",
    "\n",
    "<img src=\"data1.png\" align=\"center\" width=\"30%\"/>\n",
    "<img src=\"1.png\" align=\"left\" width=\"50%\"/><img src=\"1a.png\" align=\"right\" width=\"50%\"/>"
   ]
  },
  {
   "cell_type": "markdown",
   "metadata": {},
   "source": [
    "### 2. 'tags.csv':\n",
    "\n",
    "* There are two columns - both of them are categorical.\n",
    "* The first column is the 'Tag-ID' and the second one is the Tag name, corresponding to the ID.\n",
    "* 34252 unique tag IDs are out there.\n",
    "* 34252 tag names are there.\n",
    "* There is no missing value.\n",
    "\n",
    "<img src=\"data2.png\" align=\"center\" width=\"15%\"/>"
   ]
  },
  {
   "cell_type": "markdown",
   "metadata": {},
   "source": [
    "### 2.a Merging the above datasets on 'Tag-ID':\n",
    "\n",
    "* Merged the above two datasets on 'Tag-ID' using the 'merge' function of Pandas dataframe.\n",
    "* The resulting dataframe is as follows\n",
    "* Calculated the count of books (Goodreads book ID) per Tag names, saved this feature (numeric) as 'tag_frequency'.\n",
    "* Plotted first 20 most popular Tag names.\n",
    "* the top 3 most used tags are \"to-read\", \"favorites\", and \"owned\".\n",
    "\n",
    "<img src=\"data3.png\" align=\"left\" width=\"30%\"/> <img src=\"17.png\" align=\"right\" width=\"60%\"/>"
   ]
  },
  {
   "cell_type": "markdown",
   "metadata": {},
   "source": [
    "### 3. 'to_read.csv':\n",
    "\n",
    "* 912705 entries with no null values.\n",
    "* Both the columns are categorical variables: unique ID identifying the user and another unique ID identifying the book, which the users want to read.\n",
    "* 9986 book IDs are out there.\n",
    "* Book-ID no. 47 is the most demanded book, enlisted 2772 times. Followed by the Book-ID no. 143 (1967 times).\n",
    "* 48871 unique user-IDs are there.\n",
    "* User-ID '38457' is the popular one, enlisted 117 times. Followed by the user-ID '28259' (114 times).\n",
    "\n",
    "<img src=\"data4.png\" align=\"center\" width=\"15%\"/>"
   ]
  },
  {
   "cell_type": "markdown",
   "metadata": {},
   "source": [
    "### 4. 'ratings.csv':\n",
    "\n",
    "* There are three columns: first two columns are categorical, 'user-ID' and the 'book-ID'. The third column is a numeric one, showing the rating.\n",
    "* 5976479 entries are there with no missing values.\n",
    "* 53424 unique different user-IDs are there.\n",
    "* 10000 unique book-IDs are there.\n",
    "* Book-ID no '1' is there 22806 times.\n",
    "* The most popular (35.8%) rating is '4'. \n",
    "* Next most popular (33.2%) rating is '5'.\n",
    "* Least popular (2.1%) rating is '1'.\n",
    "\n",
    "<img src=\"data5.png\" align=\"center\" width=\"18%\"/>\n",
    "<img src=\"3.png\" align=\"left\" width=\"40%\"/> <img src=\"3a.png\" align=\"left\" width=\"50%\"/>"
   ]
  },
  {
   "cell_type": "markdown",
   "metadata": {},
   "source": [
    "### 4.1 Statistics of user ratings:\n",
    "\n",
    "* 20% of users have an average rating which is less than 3.5 stars. This could suggest that the readers like reading and have a positive bias towards books in general.\n",
    "\n",
    "* 80% of the users vary their ratings by 1 stars. For example, a user might always give books 4-star or 5-star ratings. Another might only give out 2-star or 3-star ratings.\n",
    "\n",
    "<img src=\"a.png\" align=\"left\" width=\"30%\"/> <img src=\"b.png\" align=\"left\" width=\"30%\"/> <img src=\"c.png\" align=\"left\" width=\"30%\"/>\n",
    "<img src=\"d.png\" align=\"left\" width=\"30%\"/> <img src=\"e.png\" align=\"left\" width=\"30%\"/> <img src=\"f.png\" align=\"left\" width=\"30%\"/>"
   ]
  },
  {
   "cell_type": "markdown",
   "metadata": {},
   "source": [
    "### 5. 'books.csv':\n",
    "\n",
    "* 10000 rows and 23 columns (features) are there.\n",
    "* The descriptions of the columns are listed as above.\n",
    "* 'best_book_id', 'work_id','isbn13','image_url', 'small_image_url' - these five columns are of no use in context to the analysis. So dropped them.\n",
    "\n",
    "### 5.1 books_count:\n",
    "\n",
    "* The book **'The Mirror Crack'd from Side to Side'** by Agatha Christie has the maximum no of editions, 186.\n",
    "* 51.1% of the total books have only one edition. (Referred as 'non popular books')\n",
    "* 48.9% of the total books have more than one edition. (Referred as 'Popular books')\n",
    "\n",
    "<img src=\"4.png\" align=\"left\" width=\"50%\"/> <img src=\"4a.png\" align=\"right\" width=\"40%\"/>"
   ]
  },
  {
   "cell_type": "markdown",
   "metadata": {},
   "source": [
    "### 5.2 Authors:\n",
    "\n",
    "* **Stephen King** is the most popular author (60 different books are there), followed by **Nora Roberts** (59 times)\n",
    "* Only 28.8% of the authors are popular (more than one books are reviewed).\n",
    "* 71.2% of the authors are non popular (only one book has been reviewed by the readers.)\n",
    "\n",
    "<img src=\"5.png\" align=\"left\" width=\"50%\"/> <img src=\"5a.png\" align=\"right\" width=\"40%\"/>"
   ]
  },
  {
   "cell_type": "markdown",
   "metadata": {},
   "source": [
    "###  5.3 Publication year:\n",
    "\n",
    "* There are 31 books with negative publication year! \n",
    "* 21 books have missing value for the publication year.\n",
    "* Year of publication does not have much correlation with the average rating.\n",
    "* Year of publication and the no. of editions have some correlation.\n",
    "* The oldest publication year listed = -1750!\n",
    "* The newest publication year listed = 2017\n",
    "\n",
    "<img src=\"6.png\" align=\"center\" width=\"50%\"/>\n",
    "<img src=\"16.png\" align=\"left\" width=\"40%\"/> <img src=\"16a.png\" align=\"right\" width=\"40%\"/>"
   ]
  },
  {
   "cell_type": "markdown",
   "metadata": {},
   "source": [
    "### 5.4  original_title:\n",
    "\n",
    "* This is the title of the books.\n",
    "* 585 titles are missing! \n",
    "* Some titles are common (eg. There are 5 different books titled 'The Gift')\n",
    "* **'The Gift'** and **'Twilight'** are the most popular titles. (Each of them are the titles of 5 different books.)"
   ]
  },
  {
   "cell_type": "markdown",
   "metadata": {},
   "source": [
    "### 5.5 Language code:\n",
    "\n",
    "* 25 different language codes are there.\n",
    "* More than 70% of the books are 'English'\n",
    "\n",
    "<img src=\"7.png\" align=\"center\" width=\"50%\"/>"
   ]
  },
  {
   "cell_type": "markdown",
   "metadata": {},
   "source": [
    "### 5.6 Average Rating:\n",
    "\n",
    "* This column is a numerical feature describing the average rating obtained by each book.\n",
    "* There is no missing value.\n",
    "* The mean of average_rating obtained by each book is 4.002\n",
    "* Lowest of average book rating is 2.47\n",
    "* Highest of average book rating is 4.82\n",
    "* Standard deviation of average book rating is 0.25\n",
    "\n",
    "<img src=\"8.png\" align=\"left\" width=\"50%\"/><img src=\"8a.png\" align=\"right\" width=\"50%\"/>  \n",
    "<img src=\"8b.png\" align=\"center\" width=\"45%\"/>"
   ]
  },
  {
   "cell_type": "markdown",
   "metadata": {},
   "source": [
    "### 5.7 ratings_count:\n",
    "\n",
    "* This is a numerical feature, showing the no. of **unique users**, reviewed a book.\n",
    "* The minimum no. of reviews received by any book = 2716\n",
    "* The maximum no. of reviews received by any book = 4780653\n",
    "* The mean is = 54001.25\n",
    "* The standard deviation is = 157369.96\n",
    "\n",
    "<img src=\"9.png\" align=\"center\" width=\"50%\"/> "
   ]
  },
  {
   "cell_type": "markdown",
   "metadata": {},
   "source": [
    "### 5.8 work_ratings_count:\n",
    "\n",
    "* This is a numerical feature showing the total no. of reviews that a book has received.\n",
    "* Most books in this dataset (~90%) have been reviewed between 10,000 and 100,000 times\n",
    "* The difference of this feature, from the above feature is: probably multiple reviews from any user is counted here.\n",
    "* The minimum no. of work_ratings_count by any book = 5510\n",
    "* The maximum no. of work_ratings_count by any book = 4942365\n",
    "* The mean is = 59687.32. So each book has been rated on an average 59687 times.\n",
    "* The standard deviation is = 167803.79\n",
    "\n",
    "<img src=\"9a.png\" align=\"left\" width=\"60%\"/> <img src=\"9b.png\" align=\"right\" width=\"40%\"/>"
   ]
  },
  {
   "cell_type": "markdown",
   "metadata": {},
   "source": [
    "### 5.9 work_text_reviews_count:\n",
    "\n",
    "* This is a numerical feature showing the number of written reviews that a book has received.\n",
    "* The minimum no. of text reviews received by any book = 3\n",
    "* The maximum no. of text reviews received by any book = 155254\n",
    "* The mean = 2919.9553\n",
    "* The standard deviation = 6124.38\n",
    "\n",
    "<img src=\"10.png\" align=\"left\" width=\"60%\"/> <img src=\"10a.png\" align=\"right\" width=\"40%\"/>"
   ]
  },
  {
   "cell_type": "markdown",
   "metadata": {},
   "source": [
    "### 5.9.1 Correlation between the  'Average rating', 'the no. of ratings (work_ratings_count)' and 'no. of written reviews' obntained:\n",
    "\n",
    "* These are three numerical features as follows:\n",
    "  * **Average_rating:** the mean rating of each book (out of 1-5 stars).\n",
    "  * **work_ratings_count:** number of total ratings a book received (may include multiple ratings per user)\n",
    "  * **work_text_reviews_count:** number of written reviews obtained by each book.\n",
    " \n",
    "* To see, if these features have any correlation, plotted the following 'jointplots':\n",
    "\n",
    "  i) 'Average rating' and 'no. of ratings obtained'\n",
    "  \n",
    "  ii) 'Average rating' and 'no. of written reviews obtained'\n",
    "  \n",
    "  iii) 'no. of written reviews obtained' and 'no. of ratings obtained'\n",
    "  \n",
    "  For each of the above cases, calculated the **Pearson correlation coefficient** which measures the linear relationship between two datasets. Strictly speaking, Pearson's correlation requires that each dataset be normally distributed. Like other correlation coefficients, this one varies between -1 and +1 with 0 implying no correlation. Correlations of -1 or +1 imply an exact linear relationship. Positive correlations imply that as x increases, so does y. Negative correlations imply that as x increases, y decreases. The p-value roughly indicates the probability of an uncorrelated system producing datasets that have a Pearson correlation at least as extreme as the one computed from these datasets.\n",
    "\n",
    "* The average rating for a book does not strongly correlate with the no. of ratings, or with the number of written reviews obtained.\n",
    "\n",
    "* There is a strong relationship between the no. of ratings and the no. of written reviews. So, more often a book is rated, more likely it is to receive a written review.\n",
    "\n",
    "| Cases         | Pearson Coeff.| p-value|\n",
    "| ------------- |:-------------:| ------:|\n",
    "| i)            | 0.045         |6.61e-06|\n",
    "| ii)           | 0.007         |0.45    |\n",
    "| iii)          | 0.807         |0.0     |"
   ]
  },
  {
   "cell_type": "markdown",
   "metadata": {},
   "source": [
    "<img src=\"13.png\" align=\"left\" width=\"30%\"/> <img src=\"14.png\" align=\"left\" width=\"30%\"/> <img src=\"15.png\" align=\"left\" width=\"30%\"/>"
   ]
  },
  {
   "cell_type": "markdown",
   "metadata": {},
   "source": [
    "### 5.10 ratings_1/2/3/4/5:\n",
    "\n",
    "* These five columns are the numerical features showing the no. of 1/2/3/4/5 ratings (star counts) respectively by any book.\n",
    "\n",
    "* Here following graphs show some Descriptive statistics of the individual ratings.\n",
    "\n",
    "<img src=\"11.png\" align=\"left\" width=\"50%\"/> <img src=\"11a.png\" align=\"right\" width=\"50%\"/>\n",
    "<img src=\"11b.png\" align=\"left\" width=\"50%\"/> <img src=\"11c.png\" align=\"right\" width=\"50%\"/> <img src=\"11d.png\" align=\"left\" width=\"50%\"/>\n"
   ]
  },
  {
   "cell_type": "markdown",
   "metadata": {},
   "source": [
    "### 6. Correlation of the numerical features:\n",
    "\n",
    "* None of the numeric features in this dataset have a strong correlation with the average book rating.\n",
    "* A user is more likely write a review (written review) if they are rating the book with 4 stars. \n",
    "* The strongest indicator of a low average rating is the presence of 2-star ratings. Mathematically, we might expect that a 1-star rating would bring the average down more. However, 2-star ratings are less common than 1-star ratings, which might make them more significant. With a 0.116 correlation, it's still a fairly weak predictor.\n",
    "* 5-star ratings have the next strongest correlation to average rating.\n",
    "* Below shows the features which are correlated with 'avg rating'\n",
    "\n",
    "<img src=\"12.png\" align=\"left\" width=\"60%\"/> <img src=\"corr.png\" align=\"right\" width=\"40%\"/>"
   ]
  },
  {
   "cell_type": "markdown",
   "metadata": {},
   "source": [
    "### 7. 1 Most rated books:\n",
    "\n",
    "* **The Hunger Games** got the maximum no. of reviews by the users.\n",
    "* Following shows a list of 10 books obtaining maximum no. of reviews.\n",
    "\n",
    "<img src=\"max_rate.png\" align=\"center\" width=\"60%\"/>"
   ]
  },
  {
   "cell_type": "markdown",
   "metadata": {},
   "source": [
    "### 7.2 Highest average rating:\n",
    "\n",
    "* **The Complete Calvin and Hobbes** got the highest average rating (4.82) by the users.\n",
    "* Following shows a list of 10 books obtaining highest average ratings.\n",
    "\n",
    "<img src=\"high_avg_rate.png\" align=\"center\" width=\"60%\"/>"
   ]
  },
  {
   "cell_type": "markdown",
   "metadata": {},
   "source": [
    "### 7.3 Most written review obtained:\n",
    "\n",
    "* **The Hunger Games** got the maximum no. of written reviews by the users.\n",
    "* Following shows a list of 10 books obtaining maximum no. of written reviews.\n",
    "\n",
    "<img src=\"max_written.png\" align=\"center\" width=\"60%\"/>\n"
   ]
  },
  {
   "cell_type": "markdown",
   "metadata": {},
   "source": [
    "### 7.4 Most controversial / highest in the variance of ratings obtained:\n",
    "We see that the five books with highest variation in their ratings are as follows:\n",
    "1. Book-ID: 4154 (**The Book of Mormon..**)\n",
    "2. Book-ID: 1338 (**The Book of Mormon: Another Testament of Jesus...**)\n",
    "3. Book-ID: 4962 (**The Zombie Room**)\n",
    "4. Book-ID: 3075 (**Twilight: The Graphic Novel**)\n",
    "5. Book-ID: 9486 (**Fifty Shades Duo: Fifty Shades Darker / Fifty ...**)\n",
    "\n",
    "So what we see is Religion and sexuality is the most controversial, where different people have different opinions. So, ratings are widely varied."
   ]
  },
  {
   "cell_type": "markdown",
   "metadata": {},
   "source": [
    "### Executive Summary:\n",
    "\n",
    "* In 'book_tags.csv', the maximum no. of counts of any tag-ID is 50938 (Tag-ID = 4) and the minimum no. of counts of any tag-ID is 1\n",
    "* 34252 unique tag IDs are there.\n",
    "* 49.9% of the tag-IDs are used more than once. So, referred tham as 'popular' and 50.1% of the tag-IDs are used just once. So referred then as 'Non popular'.\n",
    "* In 'tags.csv' 34252 unique tag IDs are out there and 34252 tag names are there.\n",
    "* Merged the above two datasets on 'Tag-ID' using the 'merge' function of Pandas dataframe. The top 3 most used tags are **\"to-read\"**, **\"favorites\"**, and **\"owned\"**.\n",
    "* In 'to_read.csv' 9986 book IDs are out there.\n",
    "* Book-ID no. 47 is the most demanded book, enlisted 2772 times. Followed by the Book-ID no. 143 (1967 times).\n",
    "* 48871 unique user-IDs are there. User-ID '38457' is the popular one, enlisted 117 times. Followed by the user-ID '28259' (114 times).\n",
    "* In ratings.csv, 53424 unique different user-IDs are there. 10000 unique book- IDs are there.\n",
    "* Book-ID no '1' is there 22806 times.\n",
    "* The most popular (35.8%) rating is '4'.\n",
    "* Next most popular (33.2%) rating is '5'.\n",
    "* Least popular (2.1%) rating is '1'\n",
    "* 20% of users have an average rating which is less than 3.5 stars. This could suggest that the readers like reading and have a positive bias towards books in general.\n",
    "\n",
    "* 80% of the users vary their ratings by 1 stars. For example, a user might always give books 4-star or 5-star ratings. Another might only give out 2-star or 3-star ratings.\n",
    "\n",
    "* In books.csv, 10000 rows and 23 columns (features) are there. best_book_id', 'work_id','isbn13','image_url', 'small_image_url' - these five columns are of no use in context to the analysis. So dropped them.\n",
    "\n",
    "* The book 'The Mirror Crack'd from Side to Side' by Agatha Christie has the maximum no of editions, 186.\n",
    "* 51.1% of the total books have only one edition. (Referred as 'non popular books') and 48.9% of the total books have more than one edition. (Referred as 'Popular books')\n",
    "* **Stephen King** is the most popular author (60 different books are there), followed by **Nora Roberts** (59 times)\n",
    "* Only 28.8% of the authors are popular (more than one books are reviewed) and 71.2% of the authors are non popular (only one book has been reviewed by the readers.)\n",
    "\n",
    "* There are 31 books with negative publication year! and 21 books have missing value for the publication year.\n",
    "* Year of publication does not have much correlation with the average rating.\n",
    "* Year of publication and the no. of editions have some correlation.\n",
    "* The oldest publication year listed = -1750! and the newest publication year listed = 2017.\n",
    "* 585 book titles are missing!\n",
    "* Some titles are common (eg. There are 5 different books titled 'The Gift'). **'The Gift'** and **'Twilight'** are the most popular titles. (Each of them are the titles of 5 different books.)\n",
    "* More than 70% of the books are 'English'\n",
    "* The mean of average_rating obtained by each book is 4.002\n",
    "* Most books in this dataset (~90%) have been reviewed between 10,000 and 100,000 times. The mean is = 59687.32. So each book has been rated on an average 59687 times.\n",
    "* The minimum no. of text reviews received by any book = 3. The maximum no. of text reviews received by any book = 155254 and the mean no. of text reviews obtained is 2919.9553.\n",
    "* The average rating for a book does not strongly correlate with the no. of ratings, or with the number of written reviews obtained. Where as, there is a strong relationship between the no. of ratings and the no. of written reviews. So, more often a book is rated, more likely it is to receive a written review.\n",
    "\n",
    "* None of the numeric features in this dataset have a strong correlation with the average book rating.\n",
    "* A user is more likely write a review (written review) if they are rating the book with 4 stars.\n",
    "* The strongest indicator of a low average rating is the presence of 2-star ratings. Mathematically, we might expect that a 1-star rating would bring the average down more. However, 2-star ratings are less common than 1-star ratings, which might make them more significant. With a 0.116 correlation, it's still a fairly weak predictor.\n",
    "* 5-star ratings have the next strongest correlation to average rating.\n",
    "* **The Hunger Games** got the maximum no. of reviews by the users.\n",
    "* **The Complete Calvin and Hobbes** got the highest average rating (4.82) by the users.\n",
    "* **The Hunger Games** got the maximum no. of written reviews by the users.\n",
    "*  RAeligion and sexuality is the most controversial, where different people have different opinions. So, ratings are widely varied. **The Book of Mormon: Another Testament of Jesus...**, **Fifty Shades Duo: Fifty Shades Darker / Fifty ...** etc. are the books with highest variation in their ratings."
   ]
  },
  {
   "cell_type": "code",
   "execution_count": null,
   "metadata": {},
   "outputs": [],
   "source": []
  }
 ],
 "metadata": {
  "kernelspec": {
   "display_name": "Python 3",
   "language": "python",
   "name": "python3"
  },
  "language_info": {
   "codemirror_mode": {
    "name": "ipython",
    "version": 3
   },
   "file_extension": ".py",
   "mimetype": "text/x-python",
   "name": "python",
   "nbconvert_exporter": "python",
   "pygments_lexer": "ipython3",
   "version": "3.7.3"
  }
 },
 "nbformat": 4,
 "nbformat_minor": 2
}
