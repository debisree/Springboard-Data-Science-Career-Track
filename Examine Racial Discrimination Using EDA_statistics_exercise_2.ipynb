{
 "cells": [
  {
   "cell_type": "markdown",
   "metadata": {},
   "source": [
    "# Examining Racial Discrimination in the US Job Market\n",
    "\n",
    "### Background\n",
    "Racial discrimination continues to be pervasive in cultures throughout the world. Researchers examined the level of racial discrimination in the United States labor market by randomly assigning identical résumés to black-sounding or white-sounding names and observing the impact on requests for interviews from employers.\n",
    "\n",
    "### Data\n",
    "In the dataset provided, each row represents a resume. The 'race' column has two values, 'b' and 'w', indicating black-sounding and white-sounding. The column 'call' has two values, 1 and 0, indicating whether the resume received a call from employers or not.\n",
    "\n",
    "Note that the 'b' and 'w' values in race are assigned randomly to the resumes when presented to the employer."
   ]
  },
  {
   "cell_type": "markdown",
   "metadata": {},
   "source": [
    "### Exercises\n",
    "You will perform a statistical analysis to establish whether race has a significant impact on the rate of callbacks for resumes.\n",
    "\n",
    "Answer the following questions **in this notebook below and submit to your Github account**. \n",
    "\n",
    "   1. What test is appropriate for this problem? Does CLT apply?\n",
    "   2. What are the null and alternate hypotheses?\n",
    "   3. Compute margin of error, confidence interval, and p-value. Try using both the bootstrapping and the frequentist statistical approaches.\n",
    "   4. Write a story describing the statistical significance in the context or the original problem.\n",
    "   5. Does your analysis mean that race/name is the most important factor in callback success? Why or why not? If not, how would you amend your analysis?\n",
    "\n",
    "You can include written notes in notebook cells using Markdown: \n",
    "   - In the control panel at the top, choose Cell > Cell Type > Markdown\n",
    "   - Markdown syntax: http://nestacms.com/docs/creating-content/markdown-cheat-sheet\n",
    "\n",
    "#### Resources\n",
    "+ Experiment information and data source: http://www.povertyactionlab.org/evaluation/discrimination-job-market-united-states\n",
    "+ Scipy statistical methods: http://docs.scipy.org/doc/scipy/reference/stats.html \n",
    "+ Markdown syntax: http://nestacms.com/docs/creating-content/markdown-cheat-sheet\n",
    "+ Formulas for the Bernoulli distribution: https://en.wikipedia.org/wiki/Bernoulli_distribution"
   ]
  },
  {
   "cell_type": "code",
   "execution_count": 2,
   "metadata": {},
   "outputs": [],
   "source": [
    "\n",
    "\n",
    "from __future__ import division\n",
    "import pandas as pd\n",
    "import numpy as np\n",
    "import matplotlib.pyplot as plt\n",
    "from scipy import stats\n",
    "import seaborn as sns\n",
    "import warnings\n",
    "import math\n",
    "warnings.filterwarnings('ignore')\n",
    "%matplotlib inline"
   ]
  },
  {
   "cell_type": "code",
   "execution_count": 70,
   "metadata": {},
   "outputs": [
    {
     "data": {
      "text/plain": [
       "(4870, 65)"
      ]
     },
     "execution_count": 70,
     "metadata": {},
     "output_type": "execute_result"
    }
   ],
   "source": [
    "#data.head()\n",
    "data.shape"
   ]
  },
  {
   "cell_type": "code",
   "execution_count": 71,
   "metadata": {},
   "outputs": [
    {
     "data": {
      "text/html": [
       "<div>\n",
       "<style scoped>\n",
       "    .dataframe tbody tr th:only-of-type {\n",
       "        vertical-align: middle;\n",
       "    }\n",
       "\n",
       "    .dataframe tbody tr th {\n",
       "        vertical-align: top;\n",
       "    }\n",
       "\n",
       "    .dataframe thead th {\n",
       "        text-align: right;\n",
       "    }\n",
       "</style>\n",
       "<table border=\"1\" class=\"dataframe\">\n",
       "  <thead>\n",
       "    <tr style=\"text-align: right;\">\n",
       "      <th></th>\n",
       "      <th>education</th>\n",
       "      <th>ofjobs</th>\n",
       "      <th>yearsexp</th>\n",
       "      <th>honors</th>\n",
       "      <th>volunteer</th>\n",
       "      <th>military</th>\n",
       "      <th>empholes</th>\n",
       "      <th>occupspecific</th>\n",
       "      <th>occupbroad</th>\n",
       "      <th>workinschool</th>\n",
       "      <th>...</th>\n",
       "      <th>educreq</th>\n",
       "      <th>compreq</th>\n",
       "      <th>orgreq</th>\n",
       "      <th>manuf</th>\n",
       "      <th>transcom</th>\n",
       "      <th>bankreal</th>\n",
       "      <th>trade</th>\n",
       "      <th>busservice</th>\n",
       "      <th>othservice</th>\n",
       "      <th>missind</th>\n",
       "    </tr>\n",
       "  </thead>\n",
       "  <tbody>\n",
       "    <tr>\n",
       "      <th>count</th>\n",
       "      <td>4870.000000</td>\n",
       "      <td>4870.000000</td>\n",
       "      <td>4870.000000</td>\n",
       "      <td>4870.000000</td>\n",
       "      <td>4870.000000</td>\n",
       "      <td>4870.000000</td>\n",
       "      <td>4870.000000</td>\n",
       "      <td>4870.000000</td>\n",
       "      <td>4870.000000</td>\n",
       "      <td>4870.000000</td>\n",
       "      <td>...</td>\n",
       "      <td>4870.000000</td>\n",
       "      <td>4870.000000</td>\n",
       "      <td>4870.000000</td>\n",
       "      <td>4870.000000</td>\n",
       "      <td>4870.000000</td>\n",
       "      <td>4870.000000</td>\n",
       "      <td>4870.000000</td>\n",
       "      <td>4870.000000</td>\n",
       "      <td>4870.000000</td>\n",
       "      <td>4870.000000</td>\n",
       "    </tr>\n",
       "    <tr>\n",
       "      <th>mean</th>\n",
       "      <td>3.618480</td>\n",
       "      <td>3.661396</td>\n",
       "      <td>7.842916</td>\n",
       "      <td>0.052772</td>\n",
       "      <td>0.411499</td>\n",
       "      <td>0.097125</td>\n",
       "      <td>0.448049</td>\n",
       "      <td>215.637782</td>\n",
       "      <td>3.481520</td>\n",
       "      <td>0.559548</td>\n",
       "      <td>...</td>\n",
       "      <td>0.106776</td>\n",
       "      <td>0.437166</td>\n",
       "      <td>0.072690</td>\n",
       "      <td>0.082957</td>\n",
       "      <td>0.030390</td>\n",
       "      <td>0.085010</td>\n",
       "      <td>0.213963</td>\n",
       "      <td>0.267762</td>\n",
       "      <td>0.154825</td>\n",
       "      <td>0.165092</td>\n",
       "    </tr>\n",
       "    <tr>\n",
       "      <th>std</th>\n",
       "      <td>0.714997</td>\n",
       "      <td>1.219126</td>\n",
       "      <td>5.044612</td>\n",
       "      <td>0.223601</td>\n",
       "      <td>0.492156</td>\n",
       "      <td>0.296159</td>\n",
       "      <td>0.497345</td>\n",
       "      <td>148.127551</td>\n",
       "      <td>2.038036</td>\n",
       "      <td>0.496492</td>\n",
       "      <td>...</td>\n",
       "      <td>0.308866</td>\n",
       "      <td>0.496083</td>\n",
       "      <td>0.259649</td>\n",
       "      <td>0.275854</td>\n",
       "      <td>0.171677</td>\n",
       "      <td>0.278932</td>\n",
       "      <td>0.410141</td>\n",
       "      <td>0.442847</td>\n",
       "      <td>0.361773</td>\n",
       "      <td>0.371308</td>\n",
       "    </tr>\n",
       "    <tr>\n",
       "      <th>min</th>\n",
       "      <td>0.000000</td>\n",
       "      <td>1.000000</td>\n",
       "      <td>1.000000</td>\n",
       "      <td>0.000000</td>\n",
       "      <td>0.000000</td>\n",
       "      <td>0.000000</td>\n",
       "      <td>0.000000</td>\n",
       "      <td>7.000000</td>\n",
       "      <td>1.000000</td>\n",
       "      <td>0.000000</td>\n",
       "      <td>...</td>\n",
       "      <td>0.000000</td>\n",
       "      <td>0.000000</td>\n",
       "      <td>0.000000</td>\n",
       "      <td>0.000000</td>\n",
       "      <td>0.000000</td>\n",
       "      <td>0.000000</td>\n",
       "      <td>0.000000</td>\n",
       "      <td>0.000000</td>\n",
       "      <td>0.000000</td>\n",
       "      <td>0.000000</td>\n",
       "    </tr>\n",
       "    <tr>\n",
       "      <th>25%</th>\n",
       "      <td>3.000000</td>\n",
       "      <td>3.000000</td>\n",
       "      <td>5.000000</td>\n",
       "      <td>0.000000</td>\n",
       "      <td>0.000000</td>\n",
       "      <td>0.000000</td>\n",
       "      <td>0.000000</td>\n",
       "      <td>27.000000</td>\n",
       "      <td>1.000000</td>\n",
       "      <td>0.000000</td>\n",
       "      <td>...</td>\n",
       "      <td>0.000000</td>\n",
       "      <td>0.000000</td>\n",
       "      <td>0.000000</td>\n",
       "      <td>0.000000</td>\n",
       "      <td>0.000000</td>\n",
       "      <td>0.000000</td>\n",
       "      <td>0.000000</td>\n",
       "      <td>0.000000</td>\n",
       "      <td>0.000000</td>\n",
       "      <td>0.000000</td>\n",
       "    </tr>\n",
       "    <tr>\n",
       "      <th>50%</th>\n",
       "      <td>4.000000</td>\n",
       "      <td>4.000000</td>\n",
       "      <td>6.000000</td>\n",
       "      <td>0.000000</td>\n",
       "      <td>0.000000</td>\n",
       "      <td>0.000000</td>\n",
       "      <td>0.000000</td>\n",
       "      <td>267.000000</td>\n",
       "      <td>4.000000</td>\n",
       "      <td>1.000000</td>\n",
       "      <td>...</td>\n",
       "      <td>0.000000</td>\n",
       "      <td>0.000000</td>\n",
       "      <td>0.000000</td>\n",
       "      <td>0.000000</td>\n",
       "      <td>0.000000</td>\n",
       "      <td>0.000000</td>\n",
       "      <td>0.000000</td>\n",
       "      <td>0.000000</td>\n",
       "      <td>0.000000</td>\n",
       "      <td>0.000000</td>\n",
       "    </tr>\n",
       "    <tr>\n",
       "      <th>75%</th>\n",
       "      <td>4.000000</td>\n",
       "      <td>4.000000</td>\n",
       "      <td>9.000000</td>\n",
       "      <td>0.000000</td>\n",
       "      <td>1.000000</td>\n",
       "      <td>0.000000</td>\n",
       "      <td>1.000000</td>\n",
       "      <td>313.000000</td>\n",
       "      <td>6.000000</td>\n",
       "      <td>1.000000</td>\n",
       "      <td>...</td>\n",
       "      <td>0.000000</td>\n",
       "      <td>1.000000</td>\n",
       "      <td>0.000000</td>\n",
       "      <td>0.000000</td>\n",
       "      <td>0.000000</td>\n",
       "      <td>0.000000</td>\n",
       "      <td>0.000000</td>\n",
       "      <td>1.000000</td>\n",
       "      <td>0.000000</td>\n",
       "      <td>0.000000</td>\n",
       "    </tr>\n",
       "    <tr>\n",
       "      <th>max</th>\n",
       "      <td>4.000000</td>\n",
       "      <td>7.000000</td>\n",
       "      <td>44.000000</td>\n",
       "      <td>1.000000</td>\n",
       "      <td>1.000000</td>\n",
       "      <td>1.000000</td>\n",
       "      <td>1.000000</td>\n",
       "      <td>903.000000</td>\n",
       "      <td>6.000000</td>\n",
       "      <td>1.000000</td>\n",
       "      <td>...</td>\n",
       "      <td>1.000000</td>\n",
       "      <td>1.000000</td>\n",
       "      <td>1.000000</td>\n",
       "      <td>1.000000</td>\n",
       "      <td>1.000000</td>\n",
       "      <td>1.000000</td>\n",
       "      <td>1.000000</td>\n",
       "      <td>1.000000</td>\n",
       "      <td>1.000000</td>\n",
       "      <td>1.000000</td>\n",
       "    </tr>\n",
       "  </tbody>\n",
       "</table>\n",
       "<p>8 rows × 55 columns</p>\n",
       "</div>"
      ],
      "text/plain": [
       "         education       ofjobs     yearsexp       honors    volunteer  \\\n",
       "count  4870.000000  4870.000000  4870.000000  4870.000000  4870.000000   \n",
       "mean      3.618480     3.661396     7.842916     0.052772     0.411499   \n",
       "std       0.714997     1.219126     5.044612     0.223601     0.492156   \n",
       "min       0.000000     1.000000     1.000000     0.000000     0.000000   \n",
       "25%       3.000000     3.000000     5.000000     0.000000     0.000000   \n",
       "50%       4.000000     4.000000     6.000000     0.000000     0.000000   \n",
       "75%       4.000000     4.000000     9.000000     0.000000     1.000000   \n",
       "max       4.000000     7.000000    44.000000     1.000000     1.000000   \n",
       "\n",
       "          military     empholes  occupspecific   occupbroad  workinschool  \\\n",
       "count  4870.000000  4870.000000    4870.000000  4870.000000   4870.000000   \n",
       "mean      0.097125     0.448049     215.637782     3.481520      0.559548   \n",
       "std       0.296159     0.497345     148.127551     2.038036      0.496492   \n",
       "min       0.000000     0.000000       7.000000     1.000000      0.000000   \n",
       "25%       0.000000     0.000000      27.000000     1.000000      0.000000   \n",
       "50%       0.000000     0.000000     267.000000     4.000000      1.000000   \n",
       "75%       0.000000     1.000000     313.000000     6.000000      1.000000   \n",
       "max       1.000000     1.000000     903.000000     6.000000      1.000000   \n",
       "\n",
       "          ...           educreq      compreq       orgreq        manuf  \\\n",
       "count     ...       4870.000000  4870.000000  4870.000000  4870.000000   \n",
       "mean      ...          0.106776     0.437166     0.072690     0.082957   \n",
       "std       ...          0.308866     0.496083     0.259649     0.275854   \n",
       "min       ...          0.000000     0.000000     0.000000     0.000000   \n",
       "25%       ...          0.000000     0.000000     0.000000     0.000000   \n",
       "50%       ...          0.000000     0.000000     0.000000     0.000000   \n",
       "75%       ...          0.000000     1.000000     0.000000     0.000000   \n",
       "max       ...          1.000000     1.000000     1.000000     1.000000   \n",
       "\n",
       "          transcom     bankreal        trade   busservice   othservice  \\\n",
       "count  4870.000000  4870.000000  4870.000000  4870.000000  4870.000000   \n",
       "mean      0.030390     0.085010     0.213963     0.267762     0.154825   \n",
       "std       0.171677     0.278932     0.410141     0.442847     0.361773   \n",
       "min       0.000000     0.000000     0.000000     0.000000     0.000000   \n",
       "25%       0.000000     0.000000     0.000000     0.000000     0.000000   \n",
       "50%       0.000000     0.000000     0.000000     0.000000     0.000000   \n",
       "75%       0.000000     0.000000     0.000000     1.000000     0.000000   \n",
       "max       1.000000     1.000000     1.000000     1.000000     1.000000   \n",
       "\n",
       "           missind  \n",
       "count  4870.000000  \n",
       "mean      0.165092  \n",
       "std       0.371308  \n",
       "min       0.000000  \n",
       "25%       0.000000  \n",
       "50%       0.000000  \n",
       "75%       0.000000  \n",
       "max       1.000000  \n",
       "\n",
       "[8 rows x 55 columns]"
      ]
     },
     "execution_count": 71,
     "metadata": {},
     "output_type": "execute_result"
    }
   ],
   "source": [
    "data = pd.io.stata.read_stata('us_job_market_discrimination.dta')\n",
    "data.describe()"
   ]
  },
  {
   "cell_type": "code",
   "execution_count": 67,
   "metadata": {},
   "outputs": [
    {
     "data": {
      "image/png": "[encoded data removed]",
      "text/plain": [
       "<Figure size 720x360 with 1 Axes>"
      ]
     },
     "metadata": {
      "needs_background": "light"
     },
     "output_type": "display_data"
    }
   ],
   "source": [
    "w = data[data.race=='w']\n",
    "b = data[data.race=='b']\n",
    "\n",
    "# number of callbacks for black-sounding names\n",
    "n_black=sum(b.call)\n",
    "n_tot_black=len(b.call)\n",
    "\n",
    "#number of no callbacks for black-sounding names:\n",
    "n_nocall_black=n_tot_black-n_black\n",
    "#print(n_black,n_nocall_black)\n",
    "\n",
    "#number of callbacks for white sounding names\n",
    "n_white=sum(w.call)\n",
    "n_tot_white=len(w.call)\n",
    "\n",
    "#number of no callbacks for white-sounding names:\n",
    "n_nocall_white=n_tot_white-n_white\n",
    "#print(n_white,n_nocall_white)\n",
    "\n",
    "\n",
    "#Visually:\n",
    "\n",
    "plt.figure(figsize=(10,5))\n",
    "x1= [ 'Call back', 'No call back']\n",
    "x2=[.2,1.2]\n",
    "y=[n_black,n_nocall_black]\n",
    "z=[n_white,n_nocall_white]\n",
    "_=plt.bar(x1,y,width = barwidth,color = 'cyan', edgecolor = 'black',label='Black',alpha=0.5)\n",
    "_=plt.bar(x2,z,width=barwidth,color='blue',edgecolor='k',label='White',alpha=0.5)\n",
    "plt.ylabel('Frequency')\n",
    "plt.title('Barplot showing the no of callbacks vs. the no_callbacks for both races')\n",
    "plt.legend()\n",
    "plt.show()"
   ]
  },
  {
   "cell_type": "markdown",
   "metadata": {},
   "source": [
    "We can see that the call back numbers depend on the race information. At least from the above plot, we see a difference in number."
   ]
  },
  {
   "cell_type": "markdown",
   "metadata": {
    "collapsed": true
   },
   "source": [
    "## Qestion no 1: \n",
    "\n",
    "* **What test is appropriate for this problem? Does CLT apply?**\n",
    "\n",
    "Two-sample t-test is appropiate because we are trying to determine if two population means are equal.</br>\n",
    "CLT applies because our sample size is large enough, where n > 30 (n = 4870). And the observations are independent."
   ]
  },
  {
   "cell_type": "markdown",
   "metadata": {},
   "source": [
    "## Question no 2: \n",
    "\n",
    "* **What are the null and alternate hypotheses?**\n",
    "\n",
    "**Null Hypothesis:** The mean difference between the callback rates for black & white-sounding names is zero. </br>\n",
    "\n",
    "**Alternative Hypothesis:** There is a significant (non-zero) difference between callback rates for black & white-sounding names.\n",
    "\n"
   ]
  },
  {
   "cell_type": "markdown",
   "metadata": {},
   "source": [
    "## Question no 3:\n",
    "\n",
    "* **Compute margin of error, confidence interval, and p-value. Try using both the bootstrapping and the frequentist statistical approaches.**"
   ]
  },
  {
   "cell_type": "markdown",
   "metadata": {},
   "source": [
    "* **Frequentist method:**"
   ]
  },
  {
   "cell_type": "code",
   "execution_count": 100,
   "metadata": {},
   "outputs": [
    {
     "name": "stdout",
     "output_type": "stream",
     "text": [
      "Difference in proportions = 0.032032854209445585\n",
      "Margin of error =  0.015255406349886438\n",
      "95% Confidence interval = [0.016777447859559147, 0.047288260559332024]\n"
     ]
    }
   ],
   "source": [
    "\n",
    "\n",
    "# black sample size\n",
    "n_b = len(data[data['race'] == 'b']) \n",
    "\n",
    "# white sample size\n",
    "n_w = len(data[data['race'] == 'w'])\n",
    "\n",
    "# black callback rate\n",
    "p_b = sum(data[data['race'] == 'b'].call)/n_b \n",
    "std_b = np.sqrt((p_b*(1-p_b))/len(b))\n",
    "\n",
    "# white callback rate\n",
    "p_w = sum(data[data['race'] == 'w'].call)/n_w \n",
    "std_w = np.sqrt((p_w*(1-p_w))/len(w))\n",
    "\n",
    "# Calculate difference of proportion and standard deviation\n",
    "p_diff = p_w - p_b\n",
    "std_diff = np.sqrt((std_w)**2 + (std_b)**2)\n",
    "\n",
    "\n",
    "# Use z = 1.96 to calculate margin of error for a 95% confindence interval\n",
    "margin_error = 1.96 * std_diff\n",
    "conf_int =  [(p_diff - margin_error), (p_diff + margin_error)]\n",
    "\n",
    "# Print the results\n",
    "print('Difference in proportions =', p_diff)\n",
    "print(\"Margin of error = \", margin_error)\n",
    "print('95% Confidence interval =', conf_int)\n"
   ]
  },
  {
   "cell_type": "markdown",
   "metadata": {},
   "source": [
    "* **Bootstrapping method:**\n",
    "\n",
    "From CLT, we can consider that the difference of proportions of black and white sounding names to be normally distributed. After generating 10,000 differences in callback rates, we can visualize how statistically reasonable it is that the true difference is zero."
   ]
  },
  {
   "cell_type": "code",
   "execution_count": 107,
   "metadata": {},
   "outputs": [
    {
     "name": "stdout",
     "output_type": "stream",
     "text": [
      "difference in the proportion of callbacks = 0.032032854209445585\n",
      "95% confidence interval = [0.01671117 0.0473983 ]\n",
      "z-score = 4.11555043573\n",
      "p-value = 1.9312826037620745e-05\n"
     ]
    },
    {
     "data": {
      "image/png": "[encoded data removed]",
      "text/plain": [
       "<Figure size 720x360 with 1 Axes>"
      ]
     },
     "metadata": {},
     "output_type": "display_data"
    }
   ],
   "source": [
    "#Bootsrapping\n",
    "np.random.seed(42)\n",
    "# Sample normal distribution of proportion difference\n",
    "distrib_diff = np.random.normal(p_diff, std_diff, 10000)\n",
    "\n",
    "# Calculate the z-score for a difference = 0\n",
    "z_score = (p_diff - 0) / std_diff\n",
    "\n",
    "# Calculate p-value\n",
    "p = stats.norm.cdf(z_score)\n",
    "\n",
    "# Compute 95% confidence interval with bootstrapping\n",
    "conf_int_bs = np.percentile(distrib_diff, [2.5, 97.5])\n",
    "\n",
    "# Print the results\n",
    "print('difference in the proportion of callbacks =', p_diff)\n",
    "print('95% confidence interval =', conf_int_bs)\n",
    "print('z-score =', z_score)\n",
    "print('p-value =', (1-p))\n",
    "\n",
    "# visualization of the difference in callback proportions:\n",
    "sns.set(color_codes=True)\n",
    "\n",
    "fig = plt.figure(figsize=(10,5))\n",
    "_ = sns.distplot(distrib_diff,color='b')\n",
    "_ = plt.axvline(x=0, color='red')\n",
    "\n",
    "plt.title('The difference in callback rates for white vs. black resumes is greater than zero')\n",
    "plt.xlabel('Difference in the callbacks')\n",
    "plt.ylabel('Frequency')\n",
    "plt.show()"
   ]
  },
  {
   "cell_type": "markdown",
   "metadata": {},
   "source": [
    "So what we see is, the p-value = 1.93 e-5 and 95% confidence interval = [0.01654557 0.0472137] for the difference between the two."
   ]
  },
  {
   "cell_type": "markdown",
   "metadata": {},
   "source": [
    "## Question no 4:\n",
    "\n",
    "* **Write a story describing the statistical significance in the context or the original problem.**"
   ]
  },
  {
   "cell_type": "markdown",
   "metadata": {},
   "source": [
    "As we have seen, that the p-value is less than 0.05 and the confidence interval does not contain 0. We can definitely conclude that, there is a statistically significant difference between the callback rates of black and white-sounding names."
   ]
  },
  {
   "cell_type": "markdown",
   "metadata": {},
   "source": [
    "## Question no 5:\n",
    "* **Does your analysis mean that race/name is the most important factor in callback success? Why or why not? If not, how would you amend your analysis?**"
   ]
  },
  {
   "cell_type": "markdown",
   "metadata": {},
   "source": [
    "No, the conclusion above does not imply that the race is the most important factor in callback success. Actually, We have not analyzed any other features like education, years of experience etc. which sound more promising towards the callback success. We need to consider them in our study in order to conclude the *most important* factor."
   ]
  },
  {
   "cell_type": "code",
   "execution_count": null,
   "metadata": {},
   "outputs": [],
   "source": []
  }
 ],
 "metadata": {
  "kernelspec": {
   "display_name": "Python 3",
   "language": "python",
   "name": "python3"
  },
  "language_info": {
   "codemirror_mode": {
    "name": "ipython",
    "version": 3
   },
   "file_extension": ".py",
   "mimetype": "text/x-python",
   "name": "python",
   "nbconvert_exporter": "python",
   "pygments_lexer": "ipython3",
   "version": "3.7.0"
  }
 },
 "nbformat": 4,
 "nbformat_minor": 1
}
