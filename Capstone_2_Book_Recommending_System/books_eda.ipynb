{
 "cells": [
  {
   "cell_type": "markdown",
   "metadata": {},
   "source": [
    "# Books Recommendation system - Data Wrangling and EDA\n",
    "## Capstone Project Two : Springboard Data Science career track\n",
    "### Notebook by Debisree Ray\n",
    "\n",
    "\n",
    "### Acknowledgement:\n",
    "* Mentor: Max Sop \n",
    "\n",
    "* Springboard Team\n",
    "\n",
    "* Book crossing (Cai-Nicolas Ziegler) for the data\n",
    "\n",
    "* Cover image: Internet"
   ]
  },
  {
   "cell_type": "markdown",
   "metadata": {},
   "source": [
    "## 1. Introduction - The Problem:\n",
    "\n",
    "Online recommendation systems are the ‘in’ thing to do for many e-commerce websites. A recommendation system broadly recommends products to customers best suited to their tastes and traits. This project is focused around building various kinds of book recommendation engines; namely the Simple Generic Recommender, the Content-Based Filter and the User-Based Collaborative Filter. The performance of the systems will be evaluated in both a qualitative and quantitative manner.\n",
    "\n",
    "<img src=\"book.png\" align=\"center\" width=\"100%\"/>"
   ]
  },
  {
   "cell_type": "markdown",
   "metadata": {},
   "source": [
    "## 2. The Client:\n",
    "\n",
    "Any E-commerce business website or online book-selling portal is the potential customer."
   ]
  },
  {
   "cell_type": "markdown",
   "metadata": {},
   "source": [
    "## 3. The Data:\n",
    "\n",
    "The data is from the 'Book Crossing dataset'. http://www2.informatik.uni-freiburg.de/~cziegler/BX/\n",
    "\n",
    "This dataset has been compiled by Cai-Nicolas Ziegler in 2004, and it comprises of three tables for users, books, and ratings. All three (following) files are available in the CSV dump file (BX-CSV-Dump.zip).\n",
    "\n",
    "* **BX-Book-Ratings.csv** (referred to as the rating file) has the following data fields:\n",
    "     * **User ID: -**    The ID of the reviewer\n",
    "     * **ISBN: -**     International Standard Book Number (Unique no. identifying the book)\n",
    "     * **Book Rating: -**    Numeric (1-10) showing the rating\n",
    "     \n",
    "     \n",
    "     \n",
    "     \n",
    "* **BX-Users.csv** (referred to as the users' file) has the following data fields:\n",
    "     * **User ID: -**  The ID of the reviewer\n",
    "     * **Location: -**  City of the reviewer\n",
    "     * **Age: -**   Age of the reviewer\n",
    "     \n",
    "     \n",
    "     \n",
    "     \n",
    "* **BX-Books.csv** (referred to the books file) has the following data fields:\n",
    "\n",
    "     * **ISBN: -** International Standard Book Number (Unique no. identifying the book)\n",
    "     * **Book Title: -** Title of the book\n",
    "     * **Book Author: -** Author name\n",
    "     * **Year of Publication: -** Year\n",
    "     * **Publisher: -** Publisher name/company\n",
    "     * **Image-URL-S: -** URL\n",
    "     * **Image-URL-M: -** URL\n",
    "     * **Image-URL-L: -** URL"
   ]
  },
  {
   "cell_type": "markdown",
   "metadata": {},
   "source": [
    "## 4. The questions of interest:\n",
    "The data analysis and story-telling report is organized around the following questions of interest:\n",
    "\n",
    "* Can the ratings depend on the age of the reviewers?\n",
    "\n",
    "* What are the unique features affecting the user rating?\n",
    "\n",
    "* Is there any relation between the cities and the rating?\n",
    "\n",
    "* Which location has the most and the least no. of the reviewers?\n",
    "\n",
    "* Do the year of publication and the publisher's house name has any effect on the rating?\n",
    "\n",
    "* Distribution of ratings by book\n",
    "    - Most rated books\n",
    "    - Highest rated books\n",
    "    - Highest variance of ratings (most controversial books)"
   ]
  },
  {
   "cell_type": "markdown",
   "metadata": {},
   "source": [
    "## 5. Data Wrangling:\n",
    "\n",
    "This notebook uses several Python packages that come standard with the Anaconda Python distribution. The primary libraries that we'll be using are:\n",
    "\n",
    "**NumPy:** Provides a fast numerical array structure and helper functions.\n",
    "\n",
    "**pandas:** Provides a DataFrame structure to store data in memory and work with it easily and efficiently.\n",
    "\n",
    "**scikit-learn:** The essential Machine Learning package in Python.\n",
    "\n",
    "**Matplotlib:** Basic plotting library in Python; most other Python plotting libraries are built on top of it.\n",
    "\n",
    "**Seaborn:** Advanced statistical plotting library.\n",
    "\n",
    "There are three datasets. So, we would import them and eventually merge them to build a final dataframe. \n",
    "\n",
    "* The first Dataset is the 'BX-Book-Ratings.csv'. It has three columns and 1149780 rows. The columns are 'User-ID', 'ISBN', and 'Book-Rating'. There are no missing values here.\n",
    "\n",
    "* Second Dataset is the 'BX-Users.csv'. It also has the three columns but the number of rows are 278858. The columns are: 'User-ID', 'Location', and 'Age'. We can see that there are some missing values (39.7%) in the 'Age' column. \n",
    "\n",
    "* The third Dataset is the 'BX-Books.csv'. It has 8 columns and 271360 rows. The  columns are: 'ISBN', 'Book-Title', 'Book-Author', 'Year-Of-Publication','Publisher', 'Image-URL-S', 'Image-URL-M', 'Image-URL-L'.The last three columns are not much use in our model building aspect. So we dropped them. There are mostly no missing values.\n",
    "\n",
    "\n",
    "We have merged the dataframes using the 'Merge' function to construct the final data frame as 'final_df'. It has 1031136 rows and 9 columns. The columns are as 'User-ID', 'ISBN', 'Book-Rating', 'Book-Title', 'Book-Author', 'Year-Of-Publication', 'Publisher', 'Location', and 'Age'. (The description of the data fields are given above.)\n",
    "\n",
    "'Age' column has 26.94% missing values."
   ]
  },
  {
   "cell_type": "code",
   "execution_count": 1,
   "metadata": {},
   "outputs": [],
   "source": [
    "#import libraries:\n",
    "\n",
    "import numpy as np\n",
    "import pandas as pd\n",
    "import matplotlib.pyplot as plt\n",
    "import seaborn as sns\n",
    "\n",
    "#ignore warning messages to ensure clean outputs\n",
    "import warnings\n",
    "warnings.filterwarnings('ignore')\n",
    "\n",
    "#reading the 1st dataset:\n",
    "\n",
    "rate= pd.read_csv('BX-Book-Ratings.csv', delimiter=\";\", encoding=\"latin1\")"
   ]
  },
  {
   "cell_type": "code",
   "execution_count": 2,
   "metadata": {},
   "outputs": [
    {
     "data": {
      "text/html": [
       "<div>\n",
       "<style scoped>\n",
       "    .dataframe tbody tr th:only-of-type {\n",
       "        vertical-align: middle;\n",
       "    }\n",
       "\n",
       "    .dataframe tbody tr th {\n",
       "        vertical-align: top;\n",
       "    }\n",
       "\n",
       "    .dataframe thead th {\n",
       "        text-align: right;\n",
       "    }\n",
       "</style>\n",
       "<table border=\"1\" class=\"dataframe\">\n",
       "  <thead>\n",
       "    <tr style=\"text-align: right;\">\n",
       "      <th></th>\n",
       "      <th>User-ID</th>\n",
       "      <th>ISBN</th>\n",
       "      <th>Book-Rating</th>\n",
       "    </tr>\n",
       "  </thead>\n",
       "  <tbody>\n",
       "    <tr>\n",
       "      <th>0</th>\n",
       "      <td>276725</td>\n",
       "      <td>034545104X</td>\n",
       "      <td>0</td>\n",
       "    </tr>\n",
       "    <tr>\n",
       "      <th>1</th>\n",
       "      <td>276726</td>\n",
       "      <td>0155061224</td>\n",
       "      <td>5</td>\n",
       "    </tr>\n",
       "    <tr>\n",
       "      <th>2</th>\n",
       "      <td>276727</td>\n",
       "      <td>0446520802</td>\n",
       "      <td>0</td>\n",
       "    </tr>\n",
       "    <tr>\n",
       "      <th>3</th>\n",
       "      <td>276729</td>\n",
       "      <td>052165615X</td>\n",
       "      <td>3</td>\n",
       "    </tr>\n",
       "    <tr>\n",
       "      <th>4</th>\n",
       "      <td>276729</td>\n",
       "      <td>0521795028</td>\n",
       "      <td>6</td>\n",
       "    </tr>\n",
       "  </tbody>\n",
       "</table>\n",
       "</div>"
      ],
      "text/plain": [
       "   User-ID        ISBN  Book-Rating\n",
       "0   276725  034545104X            0\n",
       "1   276726  0155061224            5\n",
       "2   276727  0446520802            0\n",
       "3   276729  052165615X            3\n",
       "4   276729  0521795028            6"
      ]
     },
     "execution_count": 2,
     "metadata": {},
     "output_type": "execute_result"
    }
   ],
   "source": [
    "rate.head()"
   ]
  },
  {
   "cell_type": "code",
   "execution_count": 3,
   "metadata": {},
   "outputs": [
    {
     "data": {
      "text/plain": [
       "(1149780, 3)"
      ]
     },
     "execution_count": 3,
     "metadata": {},
     "output_type": "execute_result"
    }
   ],
   "source": [
    "rate.shape"
   ]
  },
  {
   "cell_type": "code",
   "execution_count": 4,
   "metadata": {},
   "outputs": [
    {
     "data": {
      "text/plain": [
       "Index(['User-ID', 'ISBN', 'Book-Rating'], dtype='object')"
      ]
     },
     "execution_count": 4,
     "metadata": {},
     "output_type": "execute_result"
    }
   ],
   "source": [
    "rate.columns"
   ]
  },
  {
   "cell_type": "code",
   "execution_count": 5,
   "metadata": {},
   "outputs": [
    {
     "name": "stdout",
     "output_type": "stream",
     "text": [
      "<class 'pandas.core.frame.DataFrame'>\n",
      "RangeIndex: 1149780 entries, 0 to 1149779\n",
      "Data columns (total 3 columns):\n",
      "User-ID        1149780 non-null int64\n",
      "ISBN           1149780 non-null object\n",
      "Book-Rating    1149780 non-null int64\n",
      "dtypes: int64(2), object(1)\n",
      "memory usage: 26.3+ MB\n"
     ]
    }
   ],
   "source": [
    "rate.info()"
   ]
  },
  {
   "cell_type": "code",
   "execution_count": 6,
   "metadata": {},
   "outputs": [],
   "source": [
    "#reading the 2nd dataset:\n",
    "\n",
    "user = pd.read_csv('BX-Users.csv', delimiter=\";\", encoding=\"latin1\")"
   ]
  },
  {
   "cell_type": "code",
   "execution_count": 7,
   "metadata": {},
   "outputs": [
    {
     "data": {
      "text/html": [
       "<div>\n",
       "<style scoped>\n",
       "    .dataframe tbody tr th:only-of-type {\n",
       "        vertical-align: middle;\n",
       "    }\n",
       "\n",
       "    .dataframe tbody tr th {\n",
       "        vertical-align: top;\n",
       "    }\n",
       "\n",
       "    .dataframe thead th {\n",
       "        text-align: right;\n",
       "    }\n",
       "</style>\n",
       "<table border=\"1\" class=\"dataframe\">\n",
       "  <thead>\n",
       "    <tr style=\"text-align: right;\">\n",
       "      <th></th>\n",
       "      <th>User-ID</th>\n",
       "      <th>Location</th>\n",
       "      <th>Age</th>\n",
       "    </tr>\n",
       "  </thead>\n",
       "  <tbody>\n",
       "    <tr>\n",
       "      <th>0</th>\n",
       "      <td>1</td>\n",
       "      <td>nyc, new york, usa</td>\n",
       "      <td>NaN</td>\n",
       "    </tr>\n",
       "    <tr>\n",
       "      <th>1</th>\n",
       "      <td>2</td>\n",
       "      <td>stockton, california, usa</td>\n",
       "      <td>18.0</td>\n",
       "    </tr>\n",
       "    <tr>\n",
       "      <th>2</th>\n",
       "      <td>3</td>\n",
       "      <td>moscow, yukon territory, russia</td>\n",
       "      <td>NaN</td>\n",
       "    </tr>\n",
       "    <tr>\n",
       "      <th>3</th>\n",
       "      <td>4</td>\n",
       "      <td>porto, v.n.gaia, portugal</td>\n",
       "      <td>17.0</td>\n",
       "    </tr>\n",
       "    <tr>\n",
       "      <th>4</th>\n",
       "      <td>5</td>\n",
       "      <td>farnborough, hants, united kingdom</td>\n",
       "      <td>NaN</td>\n",
       "    </tr>\n",
       "  </tbody>\n",
       "</table>\n",
       "</div>"
      ],
      "text/plain": [
       "   User-ID                            Location   Age\n",
       "0        1                  nyc, new york, usa   NaN\n",
       "1        2           stockton, california, usa  18.0\n",
       "2        3     moscow, yukon territory, russia   NaN\n",
       "3        4           porto, v.n.gaia, portugal  17.0\n",
       "4        5  farnborough, hants, united kingdom   NaN"
      ]
     },
     "execution_count": 7,
     "metadata": {},
     "output_type": "execute_result"
    }
   ],
   "source": [
    "user.head()"
   ]
  },
  {
   "cell_type": "code",
   "execution_count": 7,
   "metadata": {},
   "outputs": [
    {
     "data": {
      "text/plain": [
       "(278858, 3)"
      ]
     },
     "execution_count": 7,
     "metadata": {},
     "output_type": "execute_result"
    }
   ],
   "source": [
    "user.shape"
   ]
  },
  {
   "cell_type": "code",
   "execution_count": 8,
   "metadata": {},
   "outputs": [
    {
     "data": {
      "text/plain": [
       "Index(['User-ID', 'Location', 'Age'], dtype='object')"
      ]
     },
     "execution_count": 8,
     "metadata": {},
     "output_type": "execute_result"
    }
   ],
   "source": [
    "user.columns"
   ]
  },
  {
   "cell_type": "code",
   "execution_count": 9,
   "metadata": {},
   "outputs": [
    {
     "name": "stdout",
     "output_type": "stream",
     "text": [
      "<class 'pandas.core.frame.DataFrame'>\n",
      "RangeIndex: 278858 entries, 0 to 278857\n",
      "Data columns (total 3 columns):\n",
      "User-ID     278858 non-null int64\n",
      "Location    278858 non-null object\n",
      "Age         168096 non-null float64\n",
      "dtypes: float64(1), int64(1), object(1)\n",
      "memory usage: 6.4+ MB\n"
     ]
    }
   ],
   "source": [
    "user.info()"
   ]
  },
  {
   "cell_type": "code",
   "execution_count": 10,
   "metadata": {},
   "outputs": [
    {
     "name": "stderr",
     "output_type": "stream",
     "text": [
      "b'Skipping line 6452: expected 8 fields, saw 9\\nSkipping line 43667: expected 8 fields, saw 10\\nSkipping line 51751: expected 8 fields, saw 9\\n'\n",
      "b'Skipping line 92038: expected 8 fields, saw 9\\nSkipping line 104319: expected 8 fields, saw 9\\nSkipping line 121768: expected 8 fields, saw 9\\n'\n",
      "b'Skipping line 144058: expected 8 fields, saw 9\\nSkipping line 150789: expected 8 fields, saw 9\\nSkipping line 157128: expected 8 fields, saw 9\\nSkipping line 180189: expected 8 fields, saw 9\\nSkipping line 185738: expected 8 fields, saw 9\\n'\n",
      "b'Skipping line 209388: expected 8 fields, saw 9\\nSkipping line 220626: expected 8 fields, saw 9\\nSkipping line 227933: expected 8 fields, saw 11\\nSkipping line 228957: expected 8 fields, saw 10\\nSkipping line 245933: expected 8 fields, saw 9\\nSkipping line 251296: expected 8 fields, saw 9\\nSkipping line 259941: expected 8 fields, saw 9\\nSkipping line 261529: expected 8 fields, saw 9\\n'\n"
     ]
    }
   ],
   "source": [
    "#Reading the third dataset:\n",
    "\n",
    "book = pd.read_csv('BX-Books.csv', delimiter=\";\", encoding=\"latin1\", error_bad_lines=False)\n"
   ]
  },
  {
   "cell_type": "code",
   "execution_count": 11,
   "metadata": {},
   "outputs": [
    {
     "data": {
      "text/html": [
       "<div>\n",
       "<style scoped>\n",
       "    .dataframe tbody tr th:only-of-type {\n",
       "        vertical-align: middle;\n",
       "    }\n",
       "\n",
       "    .dataframe tbody tr th {\n",
       "        vertical-align: top;\n",
       "    }\n",
       "\n",
       "    .dataframe thead th {\n",
       "        text-align: right;\n",
       "    }\n",
       "</style>\n",
       "<table border=\"1\" class=\"dataframe\">\n",
       "  <thead>\n",
       "    <tr style=\"text-align: right;\">\n",
       "      <th></th>\n",
       "      <th>ISBN</th>\n",
       "      <th>Book-Title</th>\n",
       "      <th>Book-Author</th>\n",
       "      <th>Year-Of-Publication</th>\n",
       "      <th>Publisher</th>\n",
       "      <th>Image-URL-S</th>\n",
       "      <th>Image-URL-M</th>\n",
       "      <th>Image-URL-L</th>\n",
       "    </tr>\n",
       "  </thead>\n",
       "  <tbody>\n",
       "    <tr>\n",
       "      <th>0</th>\n",
       "      <td>0195153448</td>\n",
       "      <td>Classical Mythology</td>\n",
       "      <td>Mark P. O. Morford</td>\n",
       "      <td>2002</td>\n",
       "      <td>Oxford University Press</td>\n",
       "      <td>http://images.amazon.com/images/P/0195153448.0...</td>\n",
       "      <td>http://images.amazon.com/images/P/0195153448.0...</td>\n",
       "      <td>http://images.amazon.com/images/P/0195153448.0...</td>\n",
       "    </tr>\n",
       "    <tr>\n",
       "      <th>1</th>\n",
       "      <td>0002005018</td>\n",
       "      <td>Clara Callan</td>\n",
       "      <td>Richard Bruce Wright</td>\n",
       "      <td>2001</td>\n",
       "      <td>HarperFlamingo Canada</td>\n",
       "      <td>http://images.amazon.com/images/P/0002005018.0...</td>\n",
       "      <td>http://images.amazon.com/images/P/0002005018.0...</td>\n",
       "      <td>http://images.amazon.com/images/P/0002005018.0...</td>\n",
       "    </tr>\n",
       "    <tr>\n",
       "      <th>2</th>\n",
       "      <td>0060973129</td>\n",
       "      <td>Decision in Normandy</td>\n",
       "      <td>Carlo D'Este</td>\n",
       "      <td>1991</td>\n",
       "      <td>HarperPerennial</td>\n",
       "      <td>http://images.amazon.com/images/P/0060973129.0...</td>\n",
       "      <td>http://images.amazon.com/images/P/0060973129.0...</td>\n",
       "      <td>http://images.amazon.com/images/P/0060973129.0...</td>\n",
       "    </tr>\n",
       "    <tr>\n",
       "      <th>3</th>\n",
       "      <td>0374157065</td>\n",
       "      <td>Flu: The Story of the Great Influenza Pandemic...</td>\n",
       "      <td>Gina Bari Kolata</td>\n",
       "      <td>1999</td>\n",
       "      <td>Farrar Straus Giroux</td>\n",
       "      <td>http://images.amazon.com/images/P/0374157065.0...</td>\n",
       "      <td>http://images.amazon.com/images/P/0374157065.0...</td>\n",
       "      <td>http://images.amazon.com/images/P/0374157065.0...</td>\n",
       "    </tr>\n",
       "    <tr>\n",
       "      <th>4</th>\n",
       "      <td>0393045218</td>\n",
       "      <td>The Mummies of Urumchi</td>\n",
       "      <td>E. J. W. Barber</td>\n",
       "      <td>1999</td>\n",
       "      <td>W. W. Norton &amp;amp; Company</td>\n",
       "      <td>http://images.amazon.com/images/P/0393045218.0...</td>\n",
       "      <td>http://images.amazon.com/images/P/0393045218.0...</td>\n",
       "      <td>http://images.amazon.com/images/P/0393045218.0...</td>\n",
       "    </tr>\n",
       "  </tbody>\n",
       "</table>\n",
       "</div>"
      ],
      "text/plain": [
       "         ISBN                                         Book-Title  \\\n",
       "0  0195153448                                Classical Mythology   \n",
       "1  0002005018                                       Clara Callan   \n",
       "2  0060973129                               Decision in Normandy   \n",
       "3  0374157065  Flu: The Story of the Great Influenza Pandemic...   \n",
       "4  0393045218                             The Mummies of Urumchi   \n",
       "\n",
       "            Book-Author Year-Of-Publication                   Publisher  \\\n",
       "0    Mark P. O. Morford                2002     Oxford University Press   \n",
       "1  Richard Bruce Wright                2001       HarperFlamingo Canada   \n",
       "2          Carlo D'Este                1991             HarperPerennial   \n",
       "3      Gina Bari Kolata                1999        Farrar Straus Giroux   \n",
       "4       E. J. W. Barber                1999  W. W. Norton &amp; Company   \n",
       "\n",
       "                                         Image-URL-S  \\\n",
       "0  http://images.amazon.com/images/P/0195153448.0...   \n",
       "1  http://images.amazon.com/images/P/0002005018.0...   \n",
       "2  http://images.amazon.com/images/P/0060973129.0...   \n",
       "3  http://images.amazon.com/images/P/0374157065.0...   \n",
       "4  http://images.amazon.com/images/P/0393045218.0...   \n",
       "\n",
       "                                         Image-URL-M  \\\n",
       "0  http://images.amazon.com/images/P/0195153448.0...   \n",
       "1  http://images.amazon.com/images/P/0002005018.0...   \n",
       "2  http://images.amazon.com/images/P/0060973129.0...   \n",
       "3  http://images.amazon.com/images/P/0374157065.0...   \n",
       "4  http://images.amazon.com/images/P/0393045218.0...   \n",
       "\n",
       "                                         Image-URL-L  \n",
       "0  http://images.amazon.com/images/P/0195153448.0...  \n",
       "1  http://images.amazon.com/images/P/0002005018.0...  \n",
       "2  http://images.amazon.com/images/P/0060973129.0...  \n",
       "3  http://images.amazon.com/images/P/0374157065.0...  \n",
       "4  http://images.amazon.com/images/P/0393045218.0...  "
      ]
     },
     "execution_count": 11,
     "metadata": {},
     "output_type": "execute_result"
    }
   ],
   "source": [
    "book.head()"
   ]
  },
  {
   "cell_type": "code",
   "execution_count": 12,
   "metadata": {},
   "outputs": [
    {
     "data": {
      "text/plain": [
       "(271360, 8)"
      ]
     },
     "execution_count": 12,
     "metadata": {},
     "output_type": "execute_result"
    }
   ],
   "source": [
    "book.shape"
   ]
  },
  {
   "cell_type": "code",
   "execution_count": 13,
   "metadata": {},
   "outputs": [
    {
     "data": {
      "text/plain": [
       "Index(['ISBN', 'Book-Title', 'Book-Author', 'Year-Of-Publication', 'Publisher',\n",
       "       'Image-URL-S', 'Image-URL-M', 'Image-URL-L'],\n",
       "      dtype='object')"
      ]
     },
     "execution_count": 13,
     "metadata": {},
     "output_type": "execute_result"
    }
   ],
   "source": [
    "book.columns"
   ]
  },
  {
   "cell_type": "code",
   "execution_count": 14,
   "metadata": {},
   "outputs": [
    {
     "name": "stdout",
     "output_type": "stream",
     "text": [
      "<class 'pandas.core.frame.DataFrame'>\n",
      "RangeIndex: 271360 entries, 0 to 271359\n",
      "Data columns (total 8 columns):\n",
      "ISBN                   271360 non-null object\n",
      "Book-Title             271360 non-null object\n",
      "Book-Author            271359 non-null object\n",
      "Year-Of-Publication    271360 non-null object\n",
      "Publisher              271358 non-null object\n",
      "Image-URL-S            271360 non-null object\n",
      "Image-URL-M            271360 non-null object\n",
      "Image-URL-L            271357 non-null object\n",
      "dtypes: object(8)\n",
      "memory usage: 16.6+ MB\n"
     ]
    }
   ],
   "source": [
    "book.info()"
   ]
  },
  {
   "cell_type": "code",
   "execution_count": 15,
   "metadata": {},
   "outputs": [],
   "source": [
    "book.drop(['Image-URL-S','Image-URL-M','Image-URL-L'], axis=1, inplace=True)"
   ]
  },
  {
   "cell_type": "code",
   "execution_count": 16,
   "metadata": {},
   "outputs": [
    {
     "data": {
      "text/html": [
       "<div>\n",
       "<style scoped>\n",
       "    .dataframe tbody tr th:only-of-type {\n",
       "        vertical-align: middle;\n",
       "    }\n",
       "\n",
       "    .dataframe tbody tr th {\n",
       "        vertical-align: top;\n",
       "    }\n",
       "\n",
       "    .dataframe thead th {\n",
       "        text-align: right;\n",
       "    }\n",
       "</style>\n",
       "<table border=\"1\" class=\"dataframe\">\n",
       "  <thead>\n",
       "    <tr style=\"text-align: right;\">\n",
       "      <th></th>\n",
       "      <th>ISBN</th>\n",
       "      <th>Book-Title</th>\n",
       "      <th>Book-Author</th>\n",
       "      <th>Year-Of-Publication</th>\n",
       "      <th>Publisher</th>\n",
       "    </tr>\n",
       "  </thead>\n",
       "  <tbody>\n",
       "    <tr>\n",
       "      <th>0</th>\n",
       "      <td>0195153448</td>\n",
       "      <td>Classical Mythology</td>\n",
       "      <td>Mark P. O. Morford</td>\n",
       "      <td>2002</td>\n",
       "      <td>Oxford University Press</td>\n",
       "    </tr>\n",
       "    <tr>\n",
       "      <th>1</th>\n",
       "      <td>0002005018</td>\n",
       "      <td>Clara Callan</td>\n",
       "      <td>Richard Bruce Wright</td>\n",
       "      <td>2001</td>\n",
       "      <td>HarperFlamingo Canada</td>\n",
       "    </tr>\n",
       "    <tr>\n",
       "      <th>2</th>\n",
       "      <td>0060973129</td>\n",
       "      <td>Decision in Normandy</td>\n",
       "      <td>Carlo D'Este</td>\n",
       "      <td>1991</td>\n",
       "      <td>HarperPerennial</td>\n",
       "    </tr>\n",
       "    <tr>\n",
       "      <th>3</th>\n",
       "      <td>0374157065</td>\n",
       "      <td>Flu: The Story of the Great Influenza Pandemic...</td>\n",
       "      <td>Gina Bari Kolata</td>\n",
       "      <td>1999</td>\n",
       "      <td>Farrar Straus Giroux</td>\n",
       "    </tr>\n",
       "    <tr>\n",
       "      <th>4</th>\n",
       "      <td>0393045218</td>\n",
       "      <td>The Mummies of Urumchi</td>\n",
       "      <td>E. J. W. Barber</td>\n",
       "      <td>1999</td>\n",
       "      <td>W. W. Norton &amp;amp; Company</td>\n",
       "    </tr>\n",
       "  </tbody>\n",
       "</table>\n",
       "</div>"
      ],
      "text/plain": [
       "         ISBN                                         Book-Title  \\\n",
       "0  0195153448                                Classical Mythology   \n",
       "1  0002005018                                       Clara Callan   \n",
       "2  0060973129                               Decision in Normandy   \n",
       "3  0374157065  Flu: The Story of the Great Influenza Pandemic...   \n",
       "4  0393045218                             The Mummies of Urumchi   \n",
       "\n",
       "            Book-Author Year-Of-Publication                   Publisher  \n",
       "0    Mark P. O. Morford                2002     Oxford University Press  \n",
       "1  Richard Bruce Wright                2001       HarperFlamingo Canada  \n",
       "2          Carlo D'Este                1991             HarperPerennial  \n",
       "3      Gina Bari Kolata                1999        Farrar Straus Giroux  \n",
       "4       E. J. W. Barber                1999  W. W. Norton &amp; Company  "
      ]
     },
     "execution_count": 16,
     "metadata": {},
     "output_type": "execute_result"
    }
   ],
   "source": [
    "book.head()"
   ]
  },
  {
   "cell_type": "code",
   "execution_count": 17,
   "metadata": {},
   "outputs": [
    {
     "data": {
      "text/html": [
       "<div>\n",
       "<style scoped>\n",
       "    .dataframe tbody tr th:only-of-type {\n",
       "        vertical-align: middle;\n",
       "    }\n",
       "\n",
       "    .dataframe tbody tr th {\n",
       "        vertical-align: top;\n",
       "    }\n",
       "\n",
       "    .dataframe thead th {\n",
       "        text-align: right;\n",
       "    }\n",
       "</style>\n",
       "<table border=\"1\" class=\"dataframe\">\n",
       "  <thead>\n",
       "    <tr style=\"text-align: right;\">\n",
       "      <th></th>\n",
       "      <th>User-ID</th>\n",
       "      <th>ISBN</th>\n",
       "      <th>Book-Rating</th>\n",
       "      <th>Book-Title</th>\n",
       "      <th>Book-Author</th>\n",
       "      <th>Year-Of-Publication</th>\n",
       "      <th>Publisher</th>\n",
       "    </tr>\n",
       "  </thead>\n",
       "  <tbody>\n",
       "    <tr>\n",
       "      <th>0</th>\n",
       "      <td>276725</td>\n",
       "      <td>034545104X</td>\n",
       "      <td>0</td>\n",
       "      <td>Flesh Tones: A Novel</td>\n",
       "      <td>M. J. Rose</td>\n",
       "      <td>2002</td>\n",
       "      <td>Ballantine Books</td>\n",
       "    </tr>\n",
       "    <tr>\n",
       "      <th>1</th>\n",
       "      <td>2313</td>\n",
       "      <td>034545104X</td>\n",
       "      <td>5</td>\n",
       "      <td>Flesh Tones: A Novel</td>\n",
       "      <td>M. J. Rose</td>\n",
       "      <td>2002</td>\n",
       "      <td>Ballantine Books</td>\n",
       "    </tr>\n",
       "    <tr>\n",
       "      <th>2</th>\n",
       "      <td>6543</td>\n",
       "      <td>034545104X</td>\n",
       "      <td>0</td>\n",
       "      <td>Flesh Tones: A Novel</td>\n",
       "      <td>M. J. Rose</td>\n",
       "      <td>2002</td>\n",
       "      <td>Ballantine Books</td>\n",
       "    </tr>\n",
       "    <tr>\n",
       "      <th>3</th>\n",
       "      <td>8680</td>\n",
       "      <td>034545104X</td>\n",
       "      <td>5</td>\n",
       "      <td>Flesh Tones: A Novel</td>\n",
       "      <td>M. J. Rose</td>\n",
       "      <td>2002</td>\n",
       "      <td>Ballantine Books</td>\n",
       "    </tr>\n",
       "    <tr>\n",
       "      <th>4</th>\n",
       "      <td>10314</td>\n",
       "      <td>034545104X</td>\n",
       "      <td>9</td>\n",
       "      <td>Flesh Tones: A Novel</td>\n",
       "      <td>M. J. Rose</td>\n",
       "      <td>2002</td>\n",
       "      <td>Ballantine Books</td>\n",
       "    </tr>\n",
       "  </tbody>\n",
       "</table>\n",
       "</div>"
      ],
      "text/plain": [
       "   User-ID        ISBN  Book-Rating            Book-Title Book-Author  \\\n",
       "0   276725  034545104X            0  Flesh Tones: A Novel  M. J. Rose   \n",
       "1     2313  034545104X            5  Flesh Tones: A Novel  M. J. Rose   \n",
       "2     6543  034545104X            0  Flesh Tones: A Novel  M. J. Rose   \n",
       "3     8680  034545104X            5  Flesh Tones: A Novel  M. J. Rose   \n",
       "4    10314  034545104X            9  Flesh Tones: A Novel  M. J. Rose   \n",
       "\n",
       "  Year-Of-Publication         Publisher  \n",
       "0                2002  Ballantine Books  \n",
       "1                2002  Ballantine Books  \n",
       "2                2002  Ballantine Books  \n",
       "3                2002  Ballantine Books  \n",
       "4                2002  Ballantine Books  "
      ]
     },
     "execution_count": 17,
     "metadata": {},
     "output_type": "execute_result"
    }
   ],
   "source": [
    "# Merging dataset:\n",
    "\n",
    "final = pd.merge(rate, book, on='ISBN')\n",
    "final.head()"
   ]
  },
  {
   "cell_type": "code",
   "execution_count": 18,
   "metadata": {},
   "outputs": [],
   "source": [
    "final_df = pd.merge(final, user, on='User-ID')"
   ]
  },
  {
   "cell_type": "code",
   "execution_count": 19,
   "metadata": {},
   "outputs": [
    {
     "data": {
      "text/html": [
       "<div>\n",
       "<style scoped>\n",
       "    .dataframe tbody tr th:only-of-type {\n",
       "        vertical-align: middle;\n",
       "    }\n",
       "\n",
       "    .dataframe tbody tr th {\n",
       "        vertical-align: top;\n",
       "    }\n",
       "\n",
       "    .dataframe thead th {\n",
       "        text-align: right;\n",
       "    }\n",
       "</style>\n",
       "<table border=\"1\" class=\"dataframe\">\n",
       "  <thead>\n",
       "    <tr style=\"text-align: right;\">\n",
       "      <th></th>\n",
       "      <th>User-ID</th>\n",
       "      <th>ISBN</th>\n",
       "      <th>Book-Rating</th>\n",
       "      <th>Book-Title</th>\n",
       "      <th>Book-Author</th>\n",
       "      <th>Year-Of-Publication</th>\n",
       "      <th>Publisher</th>\n",
       "      <th>Location</th>\n",
       "      <th>Age</th>\n",
       "    </tr>\n",
       "  </thead>\n",
       "  <tbody>\n",
       "    <tr>\n",
       "      <th>0</th>\n",
       "      <td>276725</td>\n",
       "      <td>034545104X</td>\n",
       "      <td>0</td>\n",
       "      <td>Flesh Tones: A Novel</td>\n",
       "      <td>M. J. Rose</td>\n",
       "      <td>2002</td>\n",
       "      <td>Ballantine Books</td>\n",
       "      <td>tyler, texas, usa</td>\n",
       "      <td>NaN</td>\n",
       "    </tr>\n",
       "    <tr>\n",
       "      <th>1</th>\n",
       "      <td>2313</td>\n",
       "      <td>034545104X</td>\n",
       "      <td>5</td>\n",
       "      <td>Flesh Tones: A Novel</td>\n",
       "      <td>M. J. Rose</td>\n",
       "      <td>2002</td>\n",
       "      <td>Ballantine Books</td>\n",
       "      <td>cincinnati, ohio, usa</td>\n",
       "      <td>23.0</td>\n",
       "    </tr>\n",
       "    <tr>\n",
       "      <th>2</th>\n",
       "      <td>2313</td>\n",
       "      <td>0812533550</td>\n",
       "      <td>9</td>\n",
       "      <td>Ender's Game (Ender Wiggins Saga (Paperback))</td>\n",
       "      <td>Orson Scott Card</td>\n",
       "      <td>1986</td>\n",
       "      <td>Tor Books</td>\n",
       "      <td>cincinnati, ohio, usa</td>\n",
       "      <td>23.0</td>\n",
       "    </tr>\n",
       "    <tr>\n",
       "      <th>3</th>\n",
       "      <td>2313</td>\n",
       "      <td>0679745580</td>\n",
       "      <td>8</td>\n",
       "      <td>In Cold Blood (Vintage International)</td>\n",
       "      <td>TRUMAN CAPOTE</td>\n",
       "      <td>1994</td>\n",
       "      <td>Vintage</td>\n",
       "      <td>cincinnati, ohio, usa</td>\n",
       "      <td>23.0</td>\n",
       "    </tr>\n",
       "    <tr>\n",
       "      <th>4</th>\n",
       "      <td>2313</td>\n",
       "      <td>0060173289</td>\n",
       "      <td>9</td>\n",
       "      <td>Divine Secrets of the Ya-Ya Sisterhood : A Novel</td>\n",
       "      <td>Rebecca Wells</td>\n",
       "      <td>1996</td>\n",
       "      <td>HarperCollins</td>\n",
       "      <td>cincinnati, ohio, usa</td>\n",
       "      <td>23.0</td>\n",
       "    </tr>\n",
       "  </tbody>\n",
       "</table>\n",
       "</div>"
      ],
      "text/plain": [
       "   User-ID        ISBN  Book-Rating  \\\n",
       "0   276725  034545104X            0   \n",
       "1     2313  034545104X            5   \n",
       "2     2313  0812533550            9   \n",
       "3     2313  0679745580            8   \n",
       "4     2313  0060173289            9   \n",
       "\n",
       "                                         Book-Title       Book-Author  \\\n",
       "0                              Flesh Tones: A Novel        M. J. Rose   \n",
       "1                              Flesh Tones: A Novel        M. J. Rose   \n",
       "2     Ender's Game (Ender Wiggins Saga (Paperback))  Orson Scott Card   \n",
       "3             In Cold Blood (Vintage International)     TRUMAN CAPOTE   \n",
       "4  Divine Secrets of the Ya-Ya Sisterhood : A Novel     Rebecca Wells   \n",
       "\n",
       "  Year-Of-Publication         Publisher               Location   Age  \n",
       "0                2002  Ballantine Books      tyler, texas, usa   NaN  \n",
       "1                2002  Ballantine Books  cincinnati, ohio, usa  23.0  \n",
       "2                1986         Tor Books  cincinnati, ohio, usa  23.0  \n",
       "3                1994           Vintage  cincinnati, ohio, usa  23.0  \n",
       "4                1996     HarperCollins  cincinnati, ohio, usa  23.0  "
      ]
     },
     "execution_count": 19,
     "metadata": {},
     "output_type": "execute_result"
    }
   ],
   "source": [
    "final_df.head()"
   ]
  },
  {
   "cell_type": "code",
   "execution_count": 20,
   "metadata": {},
   "outputs": [
    {
     "data": {
      "text/plain": [
       "Index(['User-ID', 'ISBN', 'Book-Rating', 'Book-Title', 'Book-Author',\n",
       "       'Year-Of-Publication', 'Publisher', 'Location', 'Age'],\n",
       "      dtype='object')"
      ]
     },
     "execution_count": 20,
     "metadata": {},
     "output_type": "execute_result"
    }
   ],
   "source": [
    "final_df.columns"
   ]
  },
  {
   "cell_type": "code",
   "execution_count": 21,
   "metadata": {},
   "outputs": [
    {
     "data": {
      "text/plain": [
       "(1031136, 9)"
      ]
     },
     "execution_count": 21,
     "metadata": {},
     "output_type": "execute_result"
    }
   ],
   "source": [
    "final_df.shape"
   ]
  },
  {
   "cell_type": "code",
   "execution_count": 22,
   "metadata": {},
   "outputs": [
    {
     "name": "stdout",
     "output_type": "stream",
     "text": [
      "<class 'pandas.core.frame.DataFrame'>\n",
      "Int64Index: 1031136 entries, 0 to 1031135\n",
      "Data columns (total 9 columns):\n",
      "User-ID                1031136 non-null int64\n",
      "ISBN                   1031136 non-null object\n",
      "Book-Rating            1031136 non-null int64\n",
      "Book-Title             1031136 non-null object\n",
      "Book-Author            1031135 non-null object\n",
      "Year-Of-Publication    1031136 non-null object\n",
      "Publisher              1031134 non-null object\n",
      "Location               1031136 non-null object\n",
      "Age                    753301 non-null float64\n",
      "dtypes: float64(1), int64(2), object(6)\n",
      "memory usage: 78.7+ MB\n"
     ]
    }
   ],
   "source": [
    "final_df.info()"
   ]
  },
  {
   "cell_type": "markdown",
   "metadata": {},
   "source": [
    "## 6. Exploratory Data Analysis (EDA) :\n",
    "### 6.1 User - ID:\n",
    "\n",
    "* These are some categorical variable to identify an user.\n",
    "* 92106 unique User-ID exist.\n",
    "* We see that 44.3% of the total users are the frequent reviewers (returned to review at least more than once). However, 55.7% are non-returning (only one time reviewer).\n",
    "* The reviewer with the User-ID '11676' is the most frequent reviewer (11144 times).\n",
    "* The next most frequent reviewer is the one with User-ID '198711' (6456 times) and so on.\n",
    "* Below is the top 20 most frequent reviewers and their total no. of reviews.\n"
   ]
  },
  {
   "cell_type": "code",
   "execution_count": 23,
   "metadata": {},
   "outputs": [
    {
     "data": {
      "image/png": "[encoded data removed]",
      "text/plain": [
       "<Figure size 432x288 with 1 Axes>"
      ]
     },
     "metadata": {},
     "output_type": "display_data"
    },
    {
     "name": "stdout",
     "output_type": "stream",
     "text": [
      "Top 20 users (and their no. of ratings) are as follows:\n"
     ]
    },
    {
     "data": {
      "text/plain": [
       "11676     11144\n",
       "198711     6456\n",
       "153662     5814\n",
       "98391      5779\n",
       "35859      5646\n",
       "212898     4289\n",
       "278418     3996\n",
       "76352      3329\n",
       "110973     2971\n",
       "235105     2943\n",
       "16795      2920\n",
       "230522     2857\n",
       "234623     2594\n",
       "204864     2461\n",
       "36836      2458\n",
       "245963     2395\n",
       "185233     2382\n",
       "55492      2361\n",
       "52584      2340\n",
       "232131     2329\n",
       "Name: User-ID, dtype: int64"
      ]
     },
     "execution_count": 23,
     "metadata": {},
     "output_type": "execute_result"
    }
   ],
   "source": [
    "id=final_df['User-ID'].value_counts()\n",
    "#len(id)\n",
    "\n",
    "\n",
    "#See, how many reviewers returned to review more:\n",
    "\n",
    "not_frequent= np.count_nonzero(id.values == 1)\n",
    "is_frequent = np.count_nonzero(id.values >1)\n",
    "\n",
    "#pie plot showing the returning vs. non returning:\n",
    "\n",
    "labels = 'Returning reviewer','Non returning'\n",
    "sizes = [is_frequent, not_frequent]\n",
    "colors = ['skyblue', 'coral']\n",
    "explode = (0.05, 0)  # explode 1st slice\n",
    "\n",
    "#Plot\n",
    "plt.pie(sizes, explode=explode, labels=labels, colors=colors,\n",
    "autopct='%1.1f%%', shadow=True, startangle=180)\n",
    "plt.axis('equal')\n",
    "plt.savefig(\"1.png\")\n",
    "plt.show()\n",
    "\n",
    "# Top 20 users:\n",
    "print('Top 20 users (and their no. of ratings) are as follows:')\n",
    "id[:20]"
   ]
  },
  {
   "cell_type": "markdown",
   "metadata": {},
   "source": [
    "## 6.2 ISBN:\n",
    "\n",
    "* 270151 unique different books (ISBN) have been listed. \n",
    "* Some books are very popular and been reviewd many times, however, some books are less popular. Just reviewed once.\n",
    "* 46.1% of the total books have been reviewed at least more than once. However, 53.9% of books have been reviewed just once.\n",
    "* The most popular book (ISBN = 0971880107) has been reviewed 2502 times.\n",
    "* The next popular book (ISBN = 0316666343) has been reviewed 1295 times and so on."
   ]
  },
  {
   "cell_type": "code",
   "execution_count": 24,
   "metadata": {},
   "outputs": [
    {
     "data": {
      "image/png": "[encoded data removed]",
      "text/plain": [
       "<Figure size 432x288 with 1 Axes>"
      ]
     },
     "metadata": {},
     "output_type": "display_data"
    },
    {
     "name": "stdout",
     "output_type": "stream",
     "text": [
      "Top 20 books/ISBN (and corresponding no. of reviews) are as follows:\n"
     ]
    },
    {
     "data": {
      "text/plain": [
       "0971880107    2502\n",
       "0316666343    1295\n",
       "0385504209     883\n",
       "0060928336     732\n",
       "0312195516     723\n",
       "044023722X     647\n",
       "0142001740     615\n",
       "067976402X     614\n",
       "0671027360     586\n",
       "0446672211     585\n",
       "059035342X     571\n",
       "0316601950     568\n",
       "0375727345     552\n",
       "044021145X     529\n",
       "0452282152     526\n",
       "0440214041     523\n",
       "0804106304     519\n",
       "0440211727     517\n",
       "0345337662     506\n",
       "0060930535     494\n",
       "Name: ISBN, dtype: int64"
      ]
     },
     "execution_count": 24,
     "metadata": {},
     "output_type": "execute_result"
    }
   ],
   "source": [
    "isbn=final_df['ISBN'].value_counts()\n",
    "\n",
    "not_popular= np.count_nonzero(isbn.values == 1)\n",
    "is_popular = np.count_nonzero(isbn.values >1)\n",
    "\n",
    "#pie plot showing the returning vs. non returning:\n",
    "\n",
    "labels = 'Popular','Not Popular'\n",
    "sizes = [is_popular, not_popular]\n",
    "colors = ['lightgreen', 'salmon']\n",
    "explode = (0.05, 0)  # explode 1st slice\n",
    "\n",
    "#Plot\n",
    "plt.pie(sizes, explode=explode, labels=labels, colors=colors,\n",
    "autopct='%1.1f%%', shadow=True, startangle=180)\n",
    "plt.axis('equal')\n",
    "plt.savefig(\"2.png\")\n",
    "plt.show()\n",
    "\n",
    "#len(final_df['ISBN'].unique())\n",
    "\n",
    "# Top 20 books (ISBN):\n",
    "print('Top 20 books/ISBN (and corresponding no. of reviews) are as follows:')\n",
    "isbn[:20]"
   ]
  },
  {
   "cell_type": "markdown",
   "metadata": {},
   "source": [
    "### 6.3 Ratings:\n",
    "\n",
    "* These are the numerical features for rating the books.\n",
    "* The scale is from '0-10'.\n",
    "* 62.8 % of the times the rating is '0'. This is the most popular rating given by the reviewers.\n",
    "* Next popular rating is '8'. This one has given 8.9% of times ; followed by '10' (6.9%)\n"
   ]
  },
  {
   "cell_type": "code",
   "execution_count": 25,
   "metadata": {},
   "outputs": [
    {
     "data": {
      "image/png": "[encoded data removed]",
      "text/plain": [
       "<Figure size 720x360 with 1 Axes>"
      ]
     },
     "metadata": {
      "needs_background": "light"
     },
     "output_type": "display_data"
    },
    {
     "data": {
      "image/png": "[encoded data removed]",
      "text/plain": [
       "<Figure size 720x360 with 1 Axes>"
      ]
     },
     "metadata": {},
     "output_type": "display_data"
    },
    {
     "data": {
      "text/plain": [
       "11"
      ]
     },
     "execution_count": 25,
     "metadata": {},
     "output_type": "execute_result"
    }
   ],
   "source": [
    " rating = final_df['Book-Rating'].value_counts()\n",
    "\n",
    "#Visually:\n",
    "plt.figure(figsize=(10,5))\n",
    "_=plt.bar(rating.index,rating.values,color='r',alpha=0.6,edgecolor='k')\n",
    "plt.xlabel('Ratings',fontsize=15)\n",
    "plt.ylabel('Frequency',fontsize=15)\n",
    "plt.title('Distribution of different ratings',fontsize=15)\n",
    "plt.savefig(\"3.png\")\n",
    "plt.show()\n",
    "\n",
    "\n",
    "#Donut plot:\n",
    "plt.figure(figsize=(10,5))\n",
    "#plt.title('Distribution of different ratings',fontsize=15)\n",
    "labels = rating.index\n",
    "sizes = rating.values\n",
    "colors = ['lightgreen', 'salmon','r','b','g','skyblue','pink','purple','y','r','gold']\n",
    "explode = (0, 0,0,0,0,0,0,0,0,0,0)  # explode 1st slice\n",
    "\n",
    "#Plot\n",
    "plt.pie(sizes, explode=explode, labels=labels, colors=colors,\n",
    "autopct='%1.1f%%', shadow=True, startangle=180)\n",
    "\n",
    "my_circle=plt.Circle( (0,0), 0.7, color='white')\n",
    "p=plt.gcf()\n",
    "p.gca().add_artist(my_circle)\n",
    "\n",
    "plt.axis('equal')\n",
    "plt.savefig(\"4.png\")\n",
    "plt.show()\n",
    "\n",
    "len(rating)"
   ]
  },
  {
   "cell_type": "markdown",
   "metadata": {},
   "source": [
    "* It appears that the rating scale is actually from 1 to 10, and the 'zero' indicates an 'implicit' rather than an 'explicit' rating. An implicit rating represents an interaction (may be positive or negative) between the user and the item. So, we have splitte dthe dataframe into the explicit and implicit rating cases. \n",
    "\n",
    "* The 'rating_explicit' (only 1-10 rating scale) dataframe has 383842 rows, where as the 'rating_implicit' (only 0) has 647294 rows.\n",
    "\n",
    "* Now, 23.9% of the rating is of score '8'.\n"
   ]
  },
  {
   "cell_type": "code",
   "execution_count": 26,
   "metadata": {},
   "outputs": [
    {
     "data": {
      "image/png": "[encoded data removed]",
      "text/plain": [
       "<Figure size 720x360 with 1 Axes>"
      ]
     },
     "metadata": {
      "needs_background": "light"
     },
     "output_type": "display_data"
    },
    {
     "data": {
      "image/png": "[encoded data removed]",
      "text/plain": [
       "<Figure size 720x360 with 1 Axes>"
      ]
     },
     "metadata": {},
     "output_type": "display_data"
    },
    {
     "name": "stdout",
     "output_type": "stream",
     "text": [
      "(383842, 9)\n",
      "(647294, 9)\n"
     ]
    }
   ],
   "source": [
    "#Segragating implicit and explict ratings datasets:\n",
    "\n",
    "ratings_explicit = final_df[final_df['Book-Rating'] != 0]\n",
    "ratings_implicit = final_df[final_df['Book-Rating'] == 0]\n",
    "\n",
    "\n",
    "\n",
    "rating_new=ratings_explicit['Book-Rating'].value_counts()\n",
    "\n",
    "#Visually:\n",
    "plt.figure(figsize=(10,5))\n",
    "_=plt.bar(rating_new.index,rating_new.values,color='gold',alpha=0.6,edgecolor='k')\n",
    "plt.xlabel('Explicit Ratings (Eliminating Zero)',fontsize=15)\n",
    "plt.ylabel('Frequency',fontsize=15)\n",
    "plt.title('Distribution of different ratings (Explicit)',fontsize=15)\n",
    "plt.savefig(\"3a.png\")\n",
    "plt.show()\n",
    "\n",
    "\n",
    "#Donut plot:\n",
    "plt.figure(figsize=(10,5))\n",
    "#plt.title('Distribution of different ratings',fontsize=15)\n",
    "labels = rating_new.index\n",
    "sizes = rating_new.values\n",
    "colors = [ 'salmon','r','b','g','skyblue','pink','purple','y','r','gold']\n",
    "explode = (0, 0,0,0,0,0,0,0,0,0)  # explode 1st slice\n",
    "\n",
    "#Plot\n",
    "plt.pie(sizes, explode=explode, labels=labels, colors=colors,\n",
    "autopct='%1.1f%%', shadow=True, startangle=180)\n",
    "\n",
    "my_circle=plt.Circle( (0,0), 0.7, color='white')\n",
    "p=plt.gcf()\n",
    "p.gca().add_artist(my_circle)\n",
    "\n",
    "plt.axis('equal')\n",
    "plt.savefig(\"4a.png\")\n",
    "plt.show()\n",
    "\n",
    "\n",
    "ratings_explicit.head()\n",
    "print(ratings_explicit.shape)\n",
    "print(ratings_implicit.shape)"
   ]
  },
  {
   "cell_type": "markdown",
   "metadata": {},
   "source": [
    "### 6.4 Book- Title:\n",
    "\n",
    "* These are the titles of the books, strings as object type.\n",
    "* There are 241071 unique book titles enlisted. But, we saw that there are 270151 unique ISBNs (book identifier   code)out there. So, definitely 29080 books lack the title information in the metadata.\n"
   ]
  },
  {
   "cell_type": "code",
   "execution_count": 27,
   "metadata": {},
   "outputs": [
    {
     "name": "stdout",
     "output_type": "stream",
     "text": [
      "Top 20 book titles (and corresponding no. of reviews) are as follows:\n"
     ]
    },
    {
     "data": {
      "text/plain": [
       "Wild Animus                                                         2502\n",
       "The Lovely Bones: A Novel                                           1295\n",
       "The Da Vinci Code                                                    898\n",
       "A Painted House                                                      838\n",
       "The Nanny Diaries: A Novel                                           828\n",
       "Bridget Jones's Diary                                                815\n",
       "The Secret Life of Bees                                              774\n",
       "Divine Secrets of the Ya-Ya Sisterhood: A Novel                      740\n",
       "The Red Tent (Bestselling Backlist)                                  723\n",
       "Angels &amp; Demons                                                  670\n",
       "Life of Pi                                                           664\n",
       "Snow Falling on Cedars                                               662\n",
       "The Summons                                                          655\n",
       "The Notebook                                                         650\n",
       "The Testament                                                        617\n",
       "House of Sand and Fog                                                588\n",
       "Where the Heart Is (Oprah's Book Club (Paperback))                   585\n",
       "The Pelican Brief                                                    581\n",
       "Harry Potter and the Sorcerer's Stone (Harry Potter (Paperback))     575\n",
       "The Girls' Guide to Hunting and Fishing                              573\n",
       "Name: Book-Title, dtype: int64"
      ]
     },
     "execution_count": 27,
     "metadata": {},
     "output_type": "execute_result"
    }
   ],
   "source": [
    "title=final_df['Book-Title'].value_counts()\n",
    "\n",
    "len(final_df['Book-Title'].unique())\n",
    "\n",
    "print('Top 20 book titles (and corresponding no. of reviews) are as follows:')\n",
    "title[:20]"
   ]
  },
  {
   "cell_type": "markdown",
   "metadata": {},
   "source": [
    "### 6.5 Book-author:\n",
    "\n",
    "* There are unique 101588 different author names enlisted.\n",
    "* The most famous/popular/reviwed author is **Stephen King** (10053 times reviewed).\n",
    "* 51.5% of the total authors are 'popular', their books being reviewed at least more than once, where as 48.5% are not that popular. Their books are reviewed only once.\n",
    "* There is one row, where the book-author name is the 'null'."
   ]
  },
  {
   "cell_type": "code",
   "execution_count": 28,
   "metadata": {},
   "outputs": [
    {
     "data": {
      "image/png": "[encoded data removed]",
      "text/plain": [
       "<Figure size 432x288 with 1 Axes>"
      ]
     },
     "metadata": {},
     "output_type": "display_data"
    },
    {
     "name": "stdout",
     "output_type": "stream",
     "text": [
      "Top 20 authors (and corresponding no. of reviews) are as follows:\n"
     ]
    },
    {
     "data": {
      "text/plain": [
       "Stephen King                 10053\n",
       "Nora Roberts                  8429\n",
       "John Grisham                  6010\n",
       "James Patterson               5845\n",
       "Mary Higgins Clark            4777\n",
       "Dean R. Koontz                4313\n",
       "Tom Clancy                    4036\n",
       "Danielle Steel                3726\n",
       "Sue Grafton                   3457\n",
       "Janet Evanovich               3350\n",
       "Anne Rice                     3030\n",
       "Michael Crichton              2921\n",
       "J. K. Rowling                 2908\n",
       "JOHN GRISHAM                  2808\n",
       "V.C. Andrews                  2785\n",
       "Sandra Brown                  2663\n",
       "Nicholas Sparks               2650\n",
       "R. L. Stine                   2606\n",
       "Rich Shapero                  2502\n",
       "Patricia Daniels Cornwell     2461\n",
       "Name: Book-Author, dtype: int64"
      ]
     },
     "execution_count": 28,
     "metadata": {},
     "output_type": "execute_result"
    }
   ],
   "source": [
    "author= final_df['Book-Author'].value_counts()\n",
    "#author\n",
    "\n",
    "not_popular_author= np.count_nonzero(author.values == 1)\n",
    "is_popular_author = np.count_nonzero(author.values >1)\n",
    "\n",
    "#pie plot showing the returning vs. non returning:\n",
    "\n",
    "labels = 'Popular Author','Not Popular Author'\n",
    "sizes = [is_popular_author, not_popular_author]\n",
    "colors = ['salmon', 'pink']\n",
    "explode = (0.05, 0)  # explode 1st slice\n",
    "\n",
    "#Plot\n",
    "plt.pie(sizes, explode=explode, labels=labels, colors=colors,\n",
    "autopct='%1.1f%%', shadow=True, startangle=180)\n",
    "plt.axis('equal')\n",
    "plt.savefig(\"5.png\")\n",
    "plt.show()\n",
    "\n",
    "#Null entree:\n",
    "final_df['Book-Author'].isnull().sum()\n",
    "\n",
    "print('Top 20 authors (and corresponding no. of reviews) are as follows:')\n",
    "author[:20]"
   ]
  },
  {
   "cell_type": "markdown",
   "metadata": {},
   "source": [
    "### 6.6 Year of Publication:\n",
    "\n",
    "* This is a numerical feature, showing the year of the publication.\n",
    "* In this column, there are many '0's and NaNs. We have replaced all zeros by NaNs.\n",
    "* 115 unique years of publications are there.\n",
    "* The oldest publication year recorded is: year 1376\n",
    "* 2002 is the most popular year (Maximum no. of Books published in this year, 91800 times.)\n",
    "* The latest year of publication = 2050!\n",
    "* The plot shows the general trend that the more recent books are much more frequent in number."
   ]
  },
  {
   "cell_type": "code",
   "execution_count": 29,
   "metadata": {},
   "outputs": [
    {
     "name": "stdout",
     "output_type": "stream",
     "text": [
      "1376.0\n",
      "2050.0\n",
      "1\n",
      "91800\n"
     ]
    },
    {
     "data": {
      "image/png": "[encoded data removed]",
      "text/plain": [
       "<Figure size 720x360 with 1 Axes>"
      ]
     },
     "metadata": {
      "needs_background": "light"
     },
     "output_type": "display_data"
    }
   ],
   "source": [
    "#final_df['Year-Of-Publication'].unique()\n",
    "final_df['Year-Of-Publication'] = pd.to_numeric(final_df['Year-Of-Publication'], errors='coerce')\n",
    "final_df[final_df['Year-Of-Publication'] == 0]['Year-Of-Publication'].count()\n",
    "final_df['Year-Of-Publication'].replace(0, np.nan, inplace=True)\n",
    "\n",
    "year = final_df['Year-Of-Publication'].value_counts()\n",
    "print(year.index.min())\n",
    "print(year.index.max())\n",
    "print(year.values.min())\n",
    "print(year.values.max())\n",
    "\n",
    "#final_df['Year-Of-Publication'].isnull().sum()\n",
    "#final_df.loc[final_df['Year-Of-Publication'] == 'DK Publishing Inc',:]\n",
    "#final_df.loc[final_df['Year-Of-Publication'] == 'Gallimard',:]\n",
    "\n",
    "#yr = final_df['Year-Of-Publication'].value_counts().sort_index()\n",
    "\n",
    "#Visually:\n",
    "plt.figure(figsize=(10,5))\n",
    "_=plt.bar(year.index,year.values,color='#0504aa')\n",
    "plt.xlabel('Year of publications',fontsize=15)\n",
    "#plt.rcParams.update({'font.size': 15}) # Set larger plot font size\n",
    "plt.ylabel('Count',fontsize=15)\n",
    "plt.title('Distribution of publication years',fontsize=15)\n",
    "plt.savefig(\"6.png\")\n",
    "plt.show()"
   ]
  },
  {
   "cell_type": "markdown",
   "metadata": {},
   "source": [
    "### 6.7 Publisher:\n",
    "\n",
    "* 16729 publisher names are enlisted, out of them 572 are uniquely different.\n",
    "* The most popular one is the 'Ballantine Books' (with 34724 books)\n",
    "* 57.2% of the publishing houses are popular (books reviewed more than once)\n",
    "* 42.8% of the publishers are not popular (books reviewed hardly once)"
   ]
  },
  {
   "cell_type": "code",
   "execution_count": 30,
   "metadata": {},
   "outputs": [
    {
     "data": {
      "image/png": "[encoded data removed]",
      "text/plain": [
       "<Figure size 432x288 with 1 Axes>"
      ]
     },
     "metadata": {},
     "output_type": "display_data"
    },
    {
     "name": "stdout",
     "output_type": "stream",
     "text": [
      "16729\n",
      "572\n",
      "Top 20 publishers (and corresponding no. of reviews) are as follows:\n"
     ]
    },
    {
     "data": {
      "text/plain": [
       "Ballantine Books            34724\n",
       "Pocket                      31989\n",
       "Berkley Publishing Group    28614\n",
       "Warner Books                25506\n",
       "Harlequin                   25027\n",
       "Bantam Books                23598\n",
       "Bantam                      20007\n",
       "Signet Book                 19155\n",
       "Avon                        17352\n",
       "Penguin Books               17033\n",
       "Jove Books                  15178\n",
       "Silhouette                  14184\n",
       "Dell                        13916\n",
       "Scholastic                  13662\n",
       "Perennial                   13466\n",
       "Fawcett Books               12905\n",
       "Dell Publishing Company     12733\n",
       "HarperTorch                 12081\n",
       "Vintage Books USA           11426\n",
       "Simon &amp; Schuster        10318\n",
       "Name: Publisher, dtype: int64"
      ]
     },
     "execution_count": 30,
     "metadata": {},
     "output_type": "execute_result"
    }
   ],
   "source": [
    "pub=final_df['Publisher'].value_counts()\n",
    "\n",
    "not_popular_pub= np.count_nonzero(pub.values == 1)\n",
    "is_popular_pub = np.count_nonzero(pub.values >1)\n",
    "\n",
    "#pie plot showing the returning vs. non returning:\n",
    "\n",
    "labels = 'Popular Publisher','Not Popular Publisher'\n",
    "sizes = [is_popular_pub, not_popular_pub]\n",
    "colors = ['gold', 'y']\n",
    "explode = (0.05, 0)  # explode 1st slice\n",
    "\n",
    "#Plot\n",
    "plt.pie(sizes, explode=explode, labels=labels, colors=colors,\n",
    "autopct='%1.1f%%', shadow=True, startangle=180)\n",
    "plt.axis('equal')\n",
    "plt.savefig(\"7.png\")\n",
    "plt.show()\n",
    "\n",
    "print(pub.sort_index().count())\n",
    "print(len(pub.sort_index().unique()))\n",
    "\n",
    "print('Top 20 publishers (and corresponding no. of reviews) are as follows:')\n",
    "pub[:20]"
   ]
  },
  {
   "cell_type": "markdown",
   "metadata": {},
   "source": [
    "### 6.8 Location:\n",
    "\n",
    "* Categorical variable, featuring the geographic location of the reviewrs.\n",
    "* Unique 762 locations (city,state,country) are there.\n",
    "* The most popular location is: 'toronto, ontario, canada' and one of the least popular one: 'essex, grays, united kingdom'\n",
    "* Splitted the information in three different columns - city, state and country for better understanding.\n",
    "* 14670 unique cities enlisted from where the reviewers belong (including the 'NA')\n",
    "* 1959 state information is there.\n",
    "* 452 different countries are there.\n",
    "* Toronto is the most popular city (15124 reviewers are alone from this town.) There are so many cities, from where only one rating has been listed (eg. hillsoboro)\n",
    "* California is the most popular state (Total 107465 reviews); followed by Texas (44158)\n",
    "* USA is the most popular (745052 reviews), followed by Canada (92917 reviews).\n",
    "* Analyzing, it appears apparently that the ratings are not dependent on cities. (analyzed only 10 top cities)\n",
    "* Analyzed the average age distribution across 10 top cities. 'Omaha' has the least average age, however 'Olympia' has the maximum spread in ages."
   ]
  },
  {
   "cell_type": "code",
   "execution_count": 31,
   "metadata": {},
   "outputs": [
    {
     "data": {
      "text/html": [
       "<div>\n",
       "<style scoped>\n",
       "    .dataframe tbody tr th:only-of-type {\n",
       "        vertical-align: middle;\n",
       "    }\n",
       "\n",
       "    .dataframe tbody tr th {\n",
       "        vertical-align: top;\n",
       "    }\n",
       "\n",
       "    .dataframe thead th {\n",
       "        text-align: right;\n",
       "    }\n",
       "</style>\n",
       "<table border=\"1\" class=\"dataframe\">\n",
       "  <thead>\n",
       "    <tr style=\"text-align: right;\">\n",
       "      <th></th>\n",
       "      <th>User-ID</th>\n",
       "      <th>ISBN</th>\n",
       "      <th>Book-Rating</th>\n",
       "      <th>Book-Title</th>\n",
       "      <th>Book-Author</th>\n",
       "      <th>Year-Of-Publication</th>\n",
       "      <th>Publisher</th>\n",
       "      <th>Location</th>\n",
       "      <th>Age</th>\n",
       "      <th>city</th>\n",
       "      <th>state</th>\n",
       "      <th>country</th>\n",
       "    </tr>\n",
       "  </thead>\n",
       "  <tbody>\n",
       "    <tr>\n",
       "      <th>0</th>\n",
       "      <td>276725</td>\n",
       "      <td>034545104X</td>\n",
       "      <td>0</td>\n",
       "      <td>Flesh Tones: A Novel</td>\n",
       "      <td>M. J. Rose</td>\n",
       "      <td>2002.0</td>\n",
       "      <td>Ballantine Books</td>\n",
       "      <td>tyler, texas, usa</td>\n",
       "      <td>NaN</td>\n",
       "      <td>tyler</td>\n",
       "      <td>texas</td>\n",
       "      <td>usa</td>\n",
       "    </tr>\n",
       "    <tr>\n",
       "      <th>1</th>\n",
       "      <td>2313</td>\n",
       "      <td>034545104X</td>\n",
       "      <td>5</td>\n",
       "      <td>Flesh Tones: A Novel</td>\n",
       "      <td>M. J. Rose</td>\n",
       "      <td>2002.0</td>\n",
       "      <td>Ballantine Books</td>\n",
       "      <td>cincinnati, ohio, usa</td>\n",
       "      <td>23.0</td>\n",
       "      <td>cincinnati</td>\n",
       "      <td>ohio</td>\n",
       "      <td>usa</td>\n",
       "    </tr>\n",
       "    <tr>\n",
       "      <th>2</th>\n",
       "      <td>2313</td>\n",
       "      <td>0812533550</td>\n",
       "      <td>9</td>\n",
       "      <td>Ender's Game (Ender Wiggins Saga (Paperback))</td>\n",
       "      <td>Orson Scott Card</td>\n",
       "      <td>1986.0</td>\n",
       "      <td>Tor Books</td>\n",
       "      <td>cincinnati, ohio, usa</td>\n",
       "      <td>23.0</td>\n",
       "      <td>cincinnati</td>\n",
       "      <td>ohio</td>\n",
       "      <td>usa</td>\n",
       "    </tr>\n",
       "    <tr>\n",
       "      <th>3</th>\n",
       "      <td>2313</td>\n",
       "      <td>0679745580</td>\n",
       "      <td>8</td>\n",
       "      <td>In Cold Blood (Vintage International)</td>\n",
       "      <td>TRUMAN CAPOTE</td>\n",
       "      <td>1994.0</td>\n",
       "      <td>Vintage</td>\n",
       "      <td>cincinnati, ohio, usa</td>\n",
       "      <td>23.0</td>\n",
       "      <td>cincinnati</td>\n",
       "      <td>ohio</td>\n",
       "      <td>usa</td>\n",
       "    </tr>\n",
       "    <tr>\n",
       "      <th>4</th>\n",
       "      <td>2313</td>\n",
       "      <td>0060173289</td>\n",
       "      <td>9</td>\n",
       "      <td>Divine Secrets of the Ya-Ya Sisterhood : A Novel</td>\n",
       "      <td>Rebecca Wells</td>\n",
       "      <td>1996.0</td>\n",
       "      <td>HarperCollins</td>\n",
       "      <td>cincinnati, ohio, usa</td>\n",
       "      <td>23.0</td>\n",
       "      <td>cincinnati</td>\n",
       "      <td>ohio</td>\n",
       "      <td>usa</td>\n",
       "    </tr>\n",
       "  </tbody>\n",
       "</table>\n",
       "</div>"
      ],
      "text/plain": [
       "   User-ID        ISBN  Book-Rating  \\\n",
       "0   276725  034545104X            0   \n",
       "1     2313  034545104X            5   \n",
       "2     2313  0812533550            9   \n",
       "3     2313  0679745580            8   \n",
       "4     2313  0060173289            9   \n",
       "\n",
       "                                         Book-Title       Book-Author  \\\n",
       "0                              Flesh Tones: A Novel        M. J. Rose   \n",
       "1                              Flesh Tones: A Novel        M. J. Rose   \n",
       "2     Ender's Game (Ender Wiggins Saga (Paperback))  Orson Scott Card   \n",
       "3             In Cold Blood (Vintage International)     TRUMAN CAPOTE   \n",
       "4  Divine Secrets of the Ya-Ya Sisterhood : A Novel     Rebecca Wells   \n",
       "\n",
       "   Year-Of-Publication         Publisher               Location   Age  \\\n",
       "0               2002.0  Ballantine Books      tyler, texas, usa   NaN   \n",
       "1               2002.0  Ballantine Books  cincinnati, ohio, usa  23.0   \n",
       "2               1986.0         Tor Books  cincinnati, ohio, usa  23.0   \n",
       "3               1994.0           Vintage  cincinnati, ohio, usa  23.0   \n",
       "4               1996.0     HarperCollins  cincinnati, ohio, usa  23.0   \n",
       "\n",
       "         city   state country  \n",
       "0       tyler   texas     usa  \n",
       "1  cincinnati    ohio     usa  \n",
       "2  cincinnati    ohio     usa  \n",
       "3  cincinnati    ohio     usa  \n",
       "4  cincinnati    ohio     usa  "
      ]
     },
     "execution_count": 31,
     "metadata": {},
     "output_type": "execute_result"
    }
   ],
   "source": [
    "#Location split into three different columns:\n",
    "\n",
    "location_expanded = final_df['Location'].str.split(',', 2, expand=True)\n",
    "\n",
    "location_expanded.columns = ['city', 'state', 'country']\n",
    "frame=[final_df,location_expanded]\n",
    "final_df = pd.concat(frame,axis=1)\n",
    "#final_df.drop(columns=['Location'], inplace=True)\n",
    "\n",
    "final_df.head()"
   ]
  },
  {
   "cell_type": "code",
   "execution_count": 32,
   "metadata": {},
   "outputs": [
    {
     "data": {
      "text/plain": [
       "Index(['toronto, ontario, canada', 'n/a, n/a, n/a', 'chicago, illinois, usa',\n",
       "       'seattle, washington, usa', 'ottawa, ontario, canada',\n",
       "       'olympia, washington, usa', 'omaha, nebraska, usa',\n",
       "       'st. louis, missouri, usa', 'little canada, minnesota, usa',\n",
       "       'duluth, minnesota, usa',\n",
       "       ...\n",
       "       'santos, são paulo, brazil', 'caithness, scotland, united kingdom',\n",
       "       'artarmon, new south wales, australia', 'boursin, , france',\n",
       "       'kenosee, saskatchewan, canada', 'dyer, indiana, usa',\n",
       "       'annan, ontario, canada', 'redfield, iowa, usa', 'fairport, ohio, usa',\n",
       "       'dublin 1, n/a, ireland'],\n",
       "      dtype='object', length=22480)"
      ]
     },
     "execution_count": 32,
     "metadata": {},
     "output_type": "execute_result"
    }
   ],
   "source": [
    "#Location wise:\n",
    "\n",
    "location=final_df['Location'].value_counts()\n",
    "len(location.unique())\n",
    "location.index"
   ]
  },
  {
   "cell_type": "code",
   "execution_count": 33,
   "metadata": {},
   "outputs": [
    {
     "name": "stdout",
     "output_type": "stream",
     "text": [
      "1\n",
      "1959\n",
      "452\n",
      "Top 20 cities (and corresponding no. of reviews) are as follows:\n"
     ]
    },
    {
     "data": {
      "text/plain": [
       "toronto          15124\n",
       "n/a              13844\n",
       "chicago           9078\n",
       "seattle           8605\n",
       "ottawa            8330\n",
       "olympia           8090\n",
       "st. louis         7305\n",
       "london            7290\n",
       "omaha             7282\n",
       "portland          7135\n",
       "san diego         6626\n",
       "little canada     6458\n",
       "duluth            6428\n",
       "ft. stewart       5820\n",
       "new york          5790\n",
       "morrow            5784\n",
       "calgary           5564\n",
       "vancouver         5371\n",
       "houston           5267\n",
       "oakland           5149\n",
       "Name: city, dtype: int64"
      ]
     },
     "execution_count": 33,
     "metadata": {},
     "output_type": "execute_result"
    }
   ],
   "source": [
    "#After splitting, City wise:\n",
    "\n",
    "city=final_df['city'].value_counts()\n",
    "state=final_df['state'].value_counts()\n",
    "country=final_df['country'].value_counts()\n",
    "\n",
    "print(city.values.min())\n",
    "print(len(state.index.unique()))\n",
    "print(len(country.index.unique()))\n",
    "\n",
    "\n",
    "print('Top 20 cities (and corresponding no. of reviews) are as follows:')\n",
    "city[:20]\n",
    "\n",
    "\n",
    "#print('10 less popular cities (and corresponding no. of reviews) are as follows:' )\n",
    "#city[:-10]"
   ]
  },
  {
   "cell_type": "code",
   "execution_count": 34,
   "metadata": {},
   "outputs": [
    {
     "name": "stdout",
     "output_type": "stream",
     "text": [
      "Top 20 states (and corresponding no. of reviews) are as follows:\n"
     ]
    },
    {
     "data": {
      "text/plain": [
       " california        107465\n",
       " texas              44158\n",
       " ontario            41440\n",
       " florida            34188\n",
       " missouri           33004\n",
       " washington         31940\n",
       " illinois           30596\n",
       " new york           29760\n",
       " virginia           27307\n",
       " georgia            26494\n",
       " minnesota          26144\n",
       " pennsylvania       24611\n",
       " north carolina     21170\n",
       " england            20948\n",
       "                    20711\n",
       " ohio               19745\n",
       " oregon             19587\n",
       " n/a                19366\n",
       " michigan           18875\n",
       " new jersey         18846\n",
       "Name: state, dtype: int64"
      ]
     },
     "execution_count": 34,
     "metadata": {},
     "output_type": "execute_result"
    }
   ],
   "source": [
    "#State:\n",
    "state=final_df['state'].value_counts()\n",
    "print('Top 20 states (and corresponding no. of reviews) are as follows:')\n",
    "state[:20]"
   ]
  },
  {
   "cell_type": "code",
   "execution_count": 35,
   "metadata": {},
   "outputs": [
    {
     "name": "stdout",
     "output_type": "stream",
     "text": [
      "Top 20 countries (and corresponding no. of reviews) are as follows:\n"
     ]
    },
    {
     "data": {
      "text/plain": [
       " usa               745052\n",
       " canada             92917\n",
       " united kingdom     32000\n",
       " germany            27654\n",
       "                    24185\n",
       " australia          18213\n",
       " spain              14772\n",
       " n/a                11177\n",
       " france             10632\n",
       " portugal            6862\n",
       " new zealand         5554\n",
       " malaysia            5048\n",
       " netherlands         4969\n",
       " switzerland         4177\n",
       " italy               3457\n",
       " austria             2803\n",
       " iran                1649\n",
       " finland             1189\n",
       " romania             1168\n",
       " singapore           1144\n",
       "Name: country, dtype: int64"
      ]
     },
     "execution_count": 35,
     "metadata": {},
     "output_type": "execute_result"
    }
   ],
   "source": [
    "#Country:\n",
    "country=final_df['country'].value_counts()\n",
    "print('Top 20 countries (and corresponding no. of reviews) are as follows:')\n",
    "country[:20]"
   ]
  },
  {
   "cell_type": "code",
   "execution_count": 36,
   "metadata": {},
   "outputs": [
    {
     "data": {
      "image/png": "[encoded data removed]",
      "text/plain": [
       "<Figure size 720x360 with 1 Axes>"
      ]
     },
     "metadata": {
      "needs_background": "light"
     },
     "output_type": "display_data"
    },
    {
     "data": {
      "image/png": "[encoded data removed]",
      "text/plain": [
       "<Figure size 720x360 with 1 Axes>"
      ]
     },
     "metadata": {
      "needs_background": "light"
     },
     "output_type": "display_data"
    }
   ],
   "source": [
    "#city wise avg. rating (excluding zero):\n",
    "\n",
    "city_df= final_df.groupby('city')\n",
    "\n",
    "#Toronto:\n",
    "\n",
    "tor=city_df.get_group('toronto')\n",
    "final_tor = tor[tor['Book-Rating'] != 0]\n",
    "tor_rating=final_tor['Book-Rating']\n",
    "tor_age= final_tor['Age']\n",
    "tor_rating_mean=tor_rating.mean()\n",
    "tor_rating_std= tor_rating.std()\n",
    "tor_age_mean=tor_age.mean()\n",
    "tor_age_std=tor_age.std()\n",
    "\n",
    "#chicago:\n",
    "chi=city_df.get_group('chicago')\n",
    "final_chi = chi[chi['Book-Rating'] != 0]\n",
    "chi_rating=final_chi['Book-Rating']\n",
    "chi_age= final_chi['Age']\n",
    "chi_rating_mean=chi_rating.mean()\n",
    "chi_rating_std=chi_rating.std()\n",
    "chi_age_mean=chi_age.mean()\n",
    "chi_age_std=chi_age.std()\n",
    "\n",
    "#seattle:\n",
    "sea=city_df.get_group('seattle')\n",
    "final_sea = sea[sea['Book-Rating'] != 0]\n",
    "sea_rating=final_sea['Book-Rating']\n",
    "sea_age= final_sea['Age']\n",
    "sea_rating_mean=sea_rating.mean()\n",
    "sea_rating_std=sea_rating.std()\n",
    "sea_age_mean=sea_age.mean()\n",
    "sea_age_std=sea_age.std()\n",
    "\n",
    "#ottawa:\n",
    "ott=city_df.get_group('ottawa')\n",
    "final_ott = ott[ott['Book-Rating'] != 0]\n",
    "ott_rating=final_ott['Book-Rating']\n",
    "ott_age= final_ott['Age']\n",
    "ott_rating_mean=ott_rating.mean()\n",
    "ott_rating_std=ott_rating.std()\n",
    "ott_age_mean=ott_age.mean()\n",
    "ott_age_std=ott_age.std()\n",
    "\n",
    "#olympia:\n",
    "oly=city_df.get_group('olympia')\n",
    "final_oly = oly[oly['Book-Rating'] != 0]\n",
    "oly_rating=final_oly['Book-Rating']\n",
    "oly_age= final_oly['Age']\n",
    "oly_rating_mean=oly_rating.mean()\n",
    "oly_rating_std=oly_rating.std()\n",
    "oly_age_mean=oly_age.mean()\n",
    "oly_age_std=oly_age.std()\n",
    "\n",
    "#st. louis:\n",
    "stl=city_df.get_group('st. louis')\n",
    "final_stl = stl[stl['Book-Rating'] != 0]\n",
    "stl_rating=final_stl['Book-Rating']\n",
    "stl_age= final_stl['Age']\n",
    "stl_rating_mean=stl_rating.mean()\n",
    "stl_rating_std=stl_rating.std()\n",
    "stl_age_mean=stl_age.mean()\n",
    "stl_age_std=stl_age.std()\n",
    "\n",
    "#london:\n",
    "lon=city_df.get_group('london')\n",
    "final_lon = lon[lon['Book-Rating'] != 0]\n",
    "lon_rating=final_lon['Book-Rating']\n",
    "lon_age= final_lon['Age']\n",
    "lon_rating_mean=lon_rating.mean()\n",
    "lon_rating_std=lon_rating.std()\n",
    "lon_age_mean=lon_age.mean()\n",
    "lon_age_std=lon_age.std()\n",
    "\n",
    "#omaha:\n",
    "om=city_df.get_group('omaha')\n",
    "final_om = om[om['Book-Rating'] != 0]\n",
    "om_rating=final_om['Book-Rating']\n",
    "om_age= final_om['Age']\n",
    "om_rating_mean=om_rating.mean()\n",
    "om_rating_std=om_rating.std()\n",
    "om_age_mean=om_age.mean()\n",
    "om_age_std=om_age.std()\n",
    "\n",
    "#portland:\n",
    "port=city_df.get_group('portland')\n",
    "final_port = port[port['Book-Rating'] != 0]\n",
    "port_rating=final_port['Book-Rating']\n",
    "port_age= final_port['Age']\n",
    "port_rating_mean=port_rating.mean()\n",
    "port_rating_std=port_rating.std()\n",
    "port_age_mean=port_age.mean()\n",
    "port_age_std=port_age.std()\n",
    "\n",
    "#san diego:\n",
    "sand=city_df.get_group('san diego')\n",
    "final_sand = sand[sand['Book-Rating'] != 0]\n",
    "sand_rating=final_sand['Book-Rating']\n",
    "sand_age= final_sand['Age']\n",
    "sand_rating_mean=sand_rating.mean()\n",
    "sand_rating_std=sand_rating.std()\n",
    "sand_age_mean=sand_age.mean()\n",
    "sand_age_std=sand_age.std()\n",
    "\n",
    "\n",
    "#Visualize-1:\n",
    "plt.figure(figsize=(10,5))\n",
    "rating_city=[tor_rating_mean, chi_rating_mean, sea_rating_mean, ott_rating_mean, oly_rating_mean, stl_rating_mean, lon_rating_mean, om_rating_mean, port_rating_mean, sand_rating_mean]\n",
    "city= ['Toronto','Chicago','Seattle','Ottawa','Olympia','St. louis','London','Omaha','Portland','San Diego']\n",
    "error_city=[tor_rating_std, chi_rating_std, sea_rating_std, ott_rating_std, oly_rating_std, stl_rating_std, lon_rating_std, om_rating_std, port_rating_std, sand_rating_std]\n",
    "_=plt.bar(city,rating_city,yerr=error_city, align='center',ecolor='black', capsize=10,color='g',alpha=0.6,edgecolor='k')\n",
    "plt.xlabel('City')\n",
    "plt.ylabel('Average Rating')\n",
    "plt.title('Average rating by the reviewers across different cities')\n",
    "plt.savefig(\"13.png\")\n",
    "plt.show()\n",
    "\n",
    "\n",
    "#Visualize-2:\n",
    "plt.figure(figsize=(10,5))\n",
    "age_city=[tor_age_mean, chi_age_mean, sea_age_mean, ott_age_mean, oly_age_mean, stl_age_mean, lon_age_mean, om_age_mean, port_age_mean, sand_age_mean]\n",
    "city= ['Toronto','Chicago','Seattle','Ottawa','Olympia','St. louis','London','Omaha','Portland','San Diego']\n",
    "error_age_city=[tor_age_std, chi_age_std, sea_age_std, ott_age_std, oly_age_std, stl_age_std, lon_age_std, om_age_std, port_age_std, sand_age_std]\n",
    "_=plt.bar(city,age_city,yerr=error_age_city, align='center',ecolor='black', capsize=10,color='y',alpha=0.6,edgecolor='k')\n",
    "plt.xlabel('City')\n",
    "plt.ylabel('Average age of the reviewrs')\n",
    "plt.title('Average age of the reviewers across different cities')\n",
    "plt.savefig(\"14.png\")\n",
    "plt.show()"
   ]
  },
  {
   "cell_type": "code",
   "execution_count": 45,
   "metadata": {},
   "outputs": [
    {
     "name": "stdout",
     "output_type": "stream",
     "text": [
      "city\n",
      "                        3.720930\n",
      "&#304;stanbul           0.000000\n",
      "&#321;ód&#378;          3.500000\n",
      "&#321;ód&#380;          9.000000\n",
      "&#36149;&#28207;        0.000000\n",
      "*                       6.000000\n",
      "***********             1.234783\n",
      "-                       3.135135\n",
      "--                      0.000000\n",
      "-----                   6.000000\n",
      "---------               0.000000\n",
      ".                       3.289362\n",
      "..                      9.000000\n",
      "...                     7.000000\n",
      ".................      10.000000\n",
      "0000000000000000        0.000000\n",
      "000000000000000000      0.000000\n",
      "0000largo               7.000000\n",
      "01721                   0.000000\n",
      "03770 el verger         7.000000\n",
      "05680                   6.500000\n",
      "10012                   8.000000\n",
      "1110 lynnwood blvd.     4.333333\n",
      "12279                   3.000000\n",
      "14482 potsdam          10.000000\n",
      "14971 deception rd.    10.000000\n",
      "15526 reichenwalde      9.000000\n",
      "16605 bennington ct     3.375000\n",
      "19258 boizenburg        4.000000\n",
      "20146 hamburg           8.000000\n",
      "                         ...    \n",
      "zory                    5.571429\n",
      "zuerich                 3.528571\n",
      "zug                     2.653061\n",
      "zuiddorpe               3.863636\n",
      "zumbrota               10.000000\n",
      "zuni                    0.000000\n",
      "zurich                  3.429630\n",
      "zushi                   6.000000\n",
      "zweenfurth              0.000000\n",
      "zweibrücken             7.500000\n",
      "zwickau                 2.333333\n",
      "zwijndrecht             7.000000\n",
      "zwingenberg             8.000000\n",
      "zwolle                  0.000000\n",
      "zürich                  3.700000\n",
      "~*~                     2.000000\n",
      "£ód&#378;               3.500000\n",
      "£ódÿ                    0.000000\n",
      "¨paris                  4.454545\n",
      "águeda                  2.571429\n",
      "århus                   2.857143\n",
      "århus v                 4.000000\n",
      "él médano               3.450292\n",
      "évora                   1.500000\n",
      "óbidos                  0.000000\n",
      "öhringen                0.285714\n",
      "örebro                  6.000000\n",
      "øverbygd                8.000000\n",
      "überallstadt            1.250000\n",
      "ýzmir                   0.000000\n",
      "Name: Book-Rating, Length: 14670, dtype: float64\n"
     ]
    },
    {
     "data": {
      "image/png": "[encoded data removed]",
      "text/plain": [
       "<Figure size 720x360 with 1 Axes>"
      ]
     },
     "metadata": {
      "needs_background": "light"
     },
     "output_type": "display_data"
    }
   ],
   "source": [
    "#Mean age across different cities\n",
    "\n",
    "mean_city_age=final_df['Age'].groupby(final_df['city']).mean()\n",
    "mean_city_rating=final_df['Book-Rating'].groupby(final_df['city']).mean()\n",
    "#_=plt.plot(mean_city)\n",
    "#plt.show()\n",
    "\n",
    "print(mean_city_rating)\n",
    "plt.figure(figsize=(10,5))\n",
    "_=plt.hist(mean_city_rating,bins=20)\n",
    "plt.xlabel('Average ratings in different cities (including the zero)',fontsize=15)\n",
    "plt.ylabel('Frequency',fontsize=15)\n",
    "plt.savefig('15.png')\n",
    "plt.show()"
   ]
  },
  {
   "cell_type": "markdown",
   "metadata": {},
   "source": [
    "### 6.9 Age:\n",
    "\n",
    "* This is a numeric column, featuring the age of the reviewers.\n",
    "* There are 141 different unique age (of the reviewers) information enlisted.\n",
    "* The minimum age = 0\n",
    "* The maximum age = 244!\n",
    "* So, a lot of them are unphysical/unrealistic! (eg. 0 and 244)\n",
    "* So, Replaced the **unrealistic** ages (5 > age > 90) by NaN\n",
    "* Total 4979 values got replaced by NaN.\n",
    "* So, after the replacement, there are 84 different unique ages (reasonable) out there.\n",
    "* For the new age group, the minimum = 5 (as we have set), the maximum = 90 and the mean = 37.047\n",
    "* So, the mean age has decreased by 0.94%\n",
    "* From the histogram of the age distribution, it's evident that the ditribution is skewed. The younger people review more than the older ones.\n"
   ]
  },
  {
   "cell_type": "code",
   "execution_count": 38,
   "metadata": {},
   "outputs": [
    {
     "data": {
      "text/plain": [
       "count    753301.000000\n",
       "mean         37.397648\n",
       "std          14.098254\n",
       "min           0.000000\n",
       "25%          28.000000\n",
       "50%          35.000000\n",
       "75%          45.000000\n",
       "max         244.000000\n",
       "Name: Age, dtype: float64"
      ]
     },
     "execution_count": 38,
     "metadata": {},
     "output_type": "execute_result"
    }
   ],
   "source": [
    "#Age as it was:\n",
    "age= final_df['Age'].value_counts()\n",
    "\n",
    "final_df['Age'].describe()"
   ]
  },
  {
   "cell_type": "code",
   "execution_count": 65,
   "metadata": {},
   "outputs": [
    {
     "data": {
      "image/png": "[encoded data removed]",
      "text/plain": [
       "<Figure size 720x360 with 1 Axes>"
      ]
     },
     "metadata": {
      "needs_background": "light"
     },
     "output_type": "display_data"
    },
    {
     "data": {
      "image/png": "[encoded data removed]",
      "text/plain": [
       "<Figure size 720x360 with 1 Axes>"
      ]
     },
     "metadata": {
      "needs_background": "light"
     },
     "output_type": "display_data"
    }
   ],
   "source": [
    " # Replace the ages > 90 and <5 by NaN:\n",
    "\n",
    "final_df.loc[(final_df['Age']< 5) | (final_df['Age']> 90), 'Age'] = np.nan\n",
    "\n",
    "#final_df['Age'][final_df['Age'] > 90 & final_df['Age'] < 5] = np.nan\n",
    "#mean_age= final_df['Age'].mean()\n",
    "#final_df['Age'].describe()\n",
    "age_new=final_df['Age'].value_counts()\n",
    "\n",
    "\n",
    "#Visually:\n",
    "plt.figure(figsize=(10,5))\n",
    "_=plt.bar(age_new.index,age_new.values,color='r')\n",
    "plt.xlabel('Age of reviewers',fontsize=15)\n",
    "plt.ylabel('Frequency',fontsize=15)\n",
    "plt.title('Distribution of age of the reviewres ',fontsize=15)\n",
    "plt.savefig(\"8.png\")\n",
    "plt.show()\n",
    "\n",
    "#Boxplot showing the age distribution:\n",
    "\n",
    "plt.figure(figsize=(10,5))\n",
    "_=sns.boxplot(age_new.index,orient='v')\n",
    "plt.xlabel('Age of reviewers',fontsize=15)\n",
    "plt.title('Boxplot showing the age distribution of the reviewers',fontsize=15)\n",
    "plt.savefig(\"9.png\")\n",
    "plt.show()"
   ]
  },
  {
   "cell_type": "code",
   "execution_count": 67,
   "metadata": {},
   "outputs": [
    {
     "data": {
      "text/plain": [
       "count    748322.000000\n",
       "mean         37.047242\n",
       "std          12.049462\n",
       "min           5.000000\n",
       "25%          28.000000\n",
       "50%          35.000000\n",
       "75%          45.000000\n",
       "max          90.000000\n",
       "Name: Age, dtype: float64"
      ]
     },
     "execution_count": 67,
     "metadata": {},
     "output_type": "execute_result"
    }
   ],
   "source": [
    "#Statistics after removing some unrealistic ages:\n",
    "mean_age= final_df['Age'].mean()\n",
    "final_df['Age'].describe()\n"
   ]
  },
  {
   "cell_type": "code",
   "execution_count": 68,
   "metadata": {},
   "outputs": [
    {
     "data": {
      "image/png": "[encoded data removed]",
      "text/plain": [
       "<Figure size 720x360 with 1 Axes>"
      ]
     },
     "metadata": {
      "needs_background": "light"
     },
     "output_type": "display_data"
    }
   ],
   "source": [
    "#Histogram:\n",
    "plt.figure(figsize=(10,5))\n",
    "_=plt.hist(final_df['Age'],bins=20,color='#0504aa', alpha=0.6, rwidth=0.85)\n",
    "plt.axvline(x=mean_age, c='r', linestyle='--')\n",
    "plt.xlabel('Age of the reviewers (after replacing the unrealistic values by NaN)',fontsize=15)\n",
    "plt.ylabel('Frequency',fontsize=15)\n",
    "plt.title('Histogram of the age distribution of the reviewers (after replacing the unrealistic values by NaN)',fontsize=12)\n",
    "plt.savefig(\"10.png\")\n",
    "plt.show()"
   ]
  },
  {
   "cell_type": "code",
   "execution_count": 70,
   "metadata": {},
   "outputs": [
    {
     "data": {
      "image/png": "[encoded data removed]",
      "text/plain": [
       "<Figure size 720x360 with 1 Axes>"
      ]
     },
     "metadata": {
      "needs_background": "light"
     },
     "output_type": "display_data"
    }
   ],
   "source": [
    "#To see if the age of the reviwers and the rating has any correlation\n",
    "#final_df['Book-Rating'] = final_df[final_df['Book-Rating'] != 0]\n",
    "\n",
    "plt.figure(figsize=(10,5))\n",
    "_ = sns.boxplot(x=\"Book-Rating\" , y=\"Age\",data=final_df, palette=\"Set3\")\n",
    "plt.title('Boxplot showing the age distribution of the reviewers for different ratings',fontsize=15)\n",
    "plt.savefig(\"11.png\")\n",
    "plt.show()"
   ]
  },
  {
   "cell_type": "code",
   "execution_count": 56,
   "metadata": {},
   "outputs": [
    {
     "data": {
      "image/png": "[encoded data removed]",
      "text/plain": [
       "<Figure size 720x360 with 1 Axes>"
      ]
     },
     "metadata": {
      "needs_background": "light"
     },
     "output_type": "display_data"
    },
    {
     "data": {
      "text/plain": [
       "[14.471953782287684,\n",
       " 13.228864350657402,\n",
       " 13.634794230496244,\n",
       " 13.412408724121645,\n",
       " 14.184593079874427,\n",
       " 13.52080540089509,\n",
       " 13.404234618663061,\n",
       " 13.973186636250038,\n",
       " 13.757672209071053,\n",
       " 13.63141008741105]"
      ]
     },
     "execution_count": 56,
     "metadata": {},
     "output_type": "execute_result"
    }
   ],
   "source": [
    "rating_group= final_df.groupby('Book-Rating')\n",
    "\n",
    "\n",
    "#Rating-1\n",
    "df_1=rating_group.get_group(1)\n",
    "mean_1=df_1['Age'].mean()\n",
    "std_1= df_1['Age'].std()\n",
    "\n",
    "#Rating-2\n",
    "df_2=rating_group.get_group(2)\n",
    "mean_2=df_2['Age'].mean()\n",
    "std_2= df_2['Age'].std()\n",
    "\n",
    "#Rating-3\n",
    "df_3=rating_group.get_group(3)\n",
    "mean_3=df_3['Age'].mean()\n",
    "std_3= df_3['Age'].std()\n",
    "\n",
    "#Rating-4\n",
    "df_4=rating_group.get_group(4)\n",
    "mean_4=df_4['Age'].mean()\n",
    "std_4= df_4['Age'].std()\n",
    "\n",
    "#Rating-5\n",
    "df_5=rating_group.get_group(5)\n",
    "mean_5=df_5['Age'].mean()\n",
    "std_5= df_5['Age'].std()\n",
    "\n",
    "#Rating-6\n",
    "df_6=rating_group.get_group(6)\n",
    "mean_6=df_6['Age'].mean()\n",
    "std_6= df_6['Age'].std()\n",
    "\n",
    "\n",
    "#Rating-7\n",
    "df_7=rating_group.get_group(7)\n",
    "mean_7=df_7['Age'].mean()\n",
    "std_7= df_7['Age'].std()\n",
    "\n",
    "#Rating-8\n",
    "df_8=rating_group.get_group(8)\n",
    "mean_8=df_8['Age'].mean()\n",
    "std_8= df_8['Age'].std()\n",
    "\n",
    "#Rating-9\n",
    "df_9=rating_group.get_group(9)\n",
    "mean_9=df_9['Age'].mean()\n",
    "std_9= df_9['Age'].std()\n",
    "\n",
    "#Rating-10\n",
    "df_10=rating_group.get_group(10)\n",
    "mean_10=df_10['Age'].mean()\n",
    "std_10= df_10['Age'].std()\n",
    "\n",
    "#Visually:\n",
    "plt.figure(figsize=(10,5))\n",
    "rating=[1,2,3,4,5,6,7,8,9,10]\n",
    "mean_age_rating=[mean_1,mean_2,mean_3,mean_4,mean_5,mean_6,mean_7,mean_8,mean_9,mean_10]\n",
    "error=[std_1,std_2,std_3,std_4,std_5,std_6,std_7,std_8,std_9,std_10]\n",
    "\n",
    "#_=plt.bar(rating,mean_age_rating,yerr=error, align='center',ecolor='black', capsize=10,color='salmon',alpha=0.7,edgecolor='k')\n",
    "_=plt.errorbar(rating,mean_age_rating,yerr=error,fmt='o',color='r',ecolor='k',capsize=10)\n",
    "plt.xlabel('Book Ratings (excluding Zero)',fontsize=15)\n",
    "plt.ylabel('Average Age of the reviewers',fontsize=15)\n",
    "plt.title('Variation of mean age of the reviewrs with the ratings')\n",
    "plt.savefig(\"12.png\")\n",
    "plt.show()\n",
    "error"
   ]
  },
  {
   "cell_type": "markdown",
   "metadata": {},
   "source": [
    "* The average age of the reviewrs range from ~ 33-37 years, for all the rating bands.\n",
    "* Error bars are roughly between 10-12 years.\n",
    "* So, the conclusion is, rating is not age dependent. (mean age is almost same for all rating bands.)"
   ]
  }
 ],
 "metadata": {
  "kernelspec": {
   "display_name": "Python 3",
   "language": "python",
   "name": "python3"
  },
  "language_info": {
   "codemirror_mode": {
    "name": "ipython",
    "version": 3
   },
   "file_extension": ".py",
   "mimetype": "text/x-python",
   "name": "python",
   "nbconvert_exporter": "python",
   "pygments_lexer": "ipython3",
   "version": "3.7.3"
  }
 },
 "nbformat": 4,
 "nbformat_minor": 2
}
