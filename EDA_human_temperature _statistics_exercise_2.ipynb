{
 "cells": [
  {
   "cell_type": "markdown",
   "metadata": {},
   "source": [
    "# What is the True Normal Human Body Temperature? \n",
    "\n",
    "#### Background\n",
    "\n",
    "The mean normal body temperature was held to be 37$^{\\circ}$C or 98.6$^{\\circ}$F for more than 120 years since it was first conceptualized and reported by Carl Wunderlich in a famous 1868 book. But, is this value statistically correct?"
   ]
  },
  {
   "cell_type": "markdown",
   "metadata": {},
   "source": [
    "<h3>Exercises</h3>\n",
    "\n",
    "<p>In this exercise, you will analyze a dataset of human body temperatures and employ the concepts of hypothesis testing, confidence intervals, and statistical significance.</p>\n",
    "\n",
    "<p>Answer the following questions <b>in this notebook below and submit to your Github account</b>.</p> \n",
    "\n",
    "<ol>\n",
    "<li>  Is the distribution of body temperatures normal? \n",
    "    <ul>\n",
    "    <li> Although this is not a requirement for the Central Limit Theorem to hold (read the introduction on Wikipedia's page about the CLT carefully: https://en.wikipedia.org/wiki/Central_limit_theorem), it gives us some peace of mind that the population may also be normally distributed if we assume that this sample is representative of the population.\n",
    "    <li> Think about the way you're going to check for the normality of the distribution. Graphical methods are usually used first, but there are also other ways: https://en.wikipedia.org/wiki/Normality_test\n",
    "    </ul>\n",
    "<li>  Is the sample size large? Are the observations independent?\n",
    "    <ul>\n",
    "    <li> Remember that this is a condition for the Central Limit Theorem, and hence the statistical tests we are using, to apply.\n",
    "    </ul>\n",
    "<li>  Is the true population mean really 98.6 degrees F?\n",
    "    <ul>\n",
    "    <li> First, try a bootstrap hypothesis test.\n",
    "    <li> Now, let's try frequentist statistical testing. Would you use a one-sample or two-sample test? Why?\n",
    "    <li> In this situation, is it appropriate to use the $t$ or $z$ statistic? \n",
    "    <li> Now try using the other test. How is the result be different? Why?\n",
    "    </ul>\n",
    "<li>  Draw a small sample of size 10 from the data and repeat both frequentist tests. \n",
    "    <ul>\n",
    "    <li> Which one is the correct one to use? \n",
    "    <li> What do you notice? What does this tell you about the difference in application of the $t$ and $z$ statistic?\n",
    "    </ul>\n",
    "<li>  At what temperature should we consider someone's temperature to be \"abnormal\"?\n",
    "    <ul>\n",
    "    <li> As in the previous example, try calculating everything using the boostrap approach, as well as the frequentist approach.\n",
    "    <li> Start by computing the margin of error and confidence interval. When calculating the confidence interval, keep in mind that you should use the appropriate formula for one draw, and not N draws.\n",
    "    </ul>\n",
    "<li>  Is there a significant difference between males and females in normal temperature?\n",
    "    <ul>\n",
    "    <li> What testing approach did you use and why?\n",
    "    <li> Write a story with your conclusion in the context of the original problem.\n",
    "    </ul>\n",
    "</ol>\n",
    "\n",
    "You can include written notes in notebook cells using Markdown: \n",
    "   - In the control panel at the top, choose Cell > Cell Type > Markdown\n",
    "   - Markdown syntax: http://nestacms.com/docs/creating-content/markdown-cheat-sheet\n",
    "\n",
    "#### Resources\n",
    "\n",
    "+ Information and data sources: http://www.amstat.org/publications/jse/datasets/normtemp.txt, http://www.amstat.org/publications/jse/jse_data_archive.htm\n",
    "+ Markdown syntax: http://nestacms.com/docs/creating-content/markdown-cheat-sheet\n",
    "\n",
    "****"
   ]
  },
  {
   "cell_type": "code",
   "execution_count": 76,
   "metadata": {},
   "outputs": [
    {
     "data": {
      "text/html": [
       "<div>\n",
       "<style scoped>\n",
       "    .dataframe tbody tr th:only-of-type {\n",
       "        vertical-align: middle;\n",
       "    }\n",
       "\n",
       "    .dataframe tbody tr th {\n",
       "        vertical-align: top;\n",
       "    }\n",
       "\n",
       "    .dataframe thead th {\n",
       "        text-align: right;\n",
       "    }\n",
       "</style>\n",
       "<table border=\"1\" class=\"dataframe\">\n",
       "  <thead>\n",
       "    <tr style=\"text-align: right;\">\n",
       "      <th></th>\n",
       "      <th>temperature</th>\n",
       "      <th>gender</th>\n",
       "      <th>heart_rate</th>\n",
       "    </tr>\n",
       "  </thead>\n",
       "  <tbody>\n",
       "    <tr>\n",
       "      <th>0</th>\n",
       "      <td>99.3</td>\n",
       "      <td>F</td>\n",
       "      <td>68.0</td>\n",
       "    </tr>\n",
       "    <tr>\n",
       "      <th>1</th>\n",
       "      <td>98.4</td>\n",
       "      <td>F</td>\n",
       "      <td>81.0</td>\n",
       "    </tr>\n",
       "    <tr>\n",
       "      <th>2</th>\n",
       "      <td>97.8</td>\n",
       "      <td>M</td>\n",
       "      <td>73.0</td>\n",
       "    </tr>\n",
       "    <tr>\n",
       "      <th>3</th>\n",
       "      <td>99.2</td>\n",
       "      <td>F</td>\n",
       "      <td>66.0</td>\n",
       "    </tr>\n",
       "    <tr>\n",
       "      <th>4</th>\n",
       "      <td>98.0</td>\n",
       "      <td>F</td>\n",
       "      <td>73.0</td>\n",
       "    </tr>\n",
       "  </tbody>\n",
       "</table>\n",
       "</div>"
      ],
      "text/plain": [
       "   temperature gender  heart_rate\n",
       "0         99.3      F        68.0\n",
       "1         98.4      F        81.0\n",
       "2         97.8      M        73.0\n",
       "3         99.2      F        66.0\n",
       "4         98.0      F        73.0"
      ]
     },
     "execution_count": 76,
     "metadata": {},
     "output_type": "execute_result"
    }
   ],
   "source": [
    "# Importing libraries\n",
    "\n",
    "import pandas as pd\n",
    "import numpy as np\n",
    "import matplotlib.pyplot as plt\n",
    "import seaborn as sns\n",
    "import scipy.stats as stats\n",
    "\n",
    "df = pd.read_csv('data/human_body_temperature.csv')\n",
    "df.head()"
   ]
  },
  {
   "cell_type": "code",
   "execution_count": 40,
   "metadata": {},
   "outputs": [
    {
     "data": {
      "text/plain": [
       "temperature    False\n",
       "gender         False\n",
       "heart_rate     False\n",
       "dtype: bool"
      ]
     },
     "execution_count": 40,
     "metadata": {},
     "output_type": "execute_result"
    }
   ],
   "source": [
    "# To make sure that there are no null values:\n",
    "\n",
    "df.isnull().any()\n",
    "#df.temperature.value_counts()\n"
   ]
  },
  {
   "cell_type": "code",
   "execution_count": 74,
   "metadata": {},
   "outputs": [
    {
     "name": "stdout",
     "output_type": "stream",
     "text": [
      "The population mean: 98.6\n",
      "The sample size: 130\n",
      "The mean temperature of the sample is: 98.24923076923078\n",
      "The standard deviation of the temperature of the sample is: 0.7331831580389454\n"
     ]
    }
   ],
   "source": [
    "## Exploring the Temperature data\n",
    "\n",
    "\n",
    "# The population mean\n",
    "u= 98.6\n",
    "print('The population mean: ' + str(u))\n",
    "\n",
    "# The sample size of the population\n",
    "n = len(df.index)\n",
    "print('The sample size: ' + str(n))\n",
    "\n",
    "# The mean temperature of the sample population\n",
    "t = df['temperature'].mean()\n",
    "print('The mean temperature of the sample is: ' + str(t))\n",
    "\n",
    "# The standard deviation of the sample population\n",
    "std = df['temperature'].std()\n",
    "print('The standard deviation of the temperature of the sample is: ' + str(std))\n",
    "\n",
    "#Temperature\n",
    "temp_all = df.temperature\n",
    "temp_m = df[df.gender == 'M'].temperature\n",
    "temp_f = df[df.gender == 'F'].temperature"
   ]
  },
  {
   "cell_type": "markdown",
   "metadata": {},
   "source": [
    "# Question no 1:\n",
    "### Is the distribution of body temperatures normal?\n",
    "\n",
    "Based on the graphs below, we can conclude that the body temperature is normally distributed."
   ]
  },
  {
   "cell_type": "code",
   "execution_count": 61,
   "metadata": {},
   "outputs": [
    {
     "name": "stderr",
     "output_type": "stream",
     "text": [
      "/Users/debisreeray/anaconda3/lib/python3.7/site-packages/matplotlib/axes/_axes.py:6571: UserWarning: The 'normed' kwarg is deprecated, and has been replaced by the 'density' kwarg.\n",
      "  warnings.warn(\"The 'normed' kwarg is deprecated, and has been \"\n"
     ]
    },
    {
     "data": {
      "image/png": "[encoded data removed]",
      "text/plain": [
       "<Figure size 432x288 with 1 Axes>"
      ]
     },
     "metadata": {},
     "output_type": "display_data"
    },
    {
     "data": {
      "image/png": "[encoded data removed]",
      "text/plain": [
       "<Figure size 432x288 with 1 Axes>"
      ]
     },
     "metadata": {},
     "output_type": "display_data"
    }
   ],
   "source": [
    "# Plot the temperature on the Human_Body_Temperature data set\n",
    "# Looks like the graph is noramlly distributed\n",
    "f,ax1 = plt.subplots(1,1)\n",
    "sns.set()\n",
    "#_=sns.distplot(df['temperature'],bins=10,norm_hist=False)\n",
    "_=plt.hist(df['temperature'],normed=True,bins=20)\n",
    "_=plt.ylabel('PDF')\n",
    "_=plt.xlabel('Temperature')\n",
    "_=plt.title('Distribution of the body temperature')\n",
    "plt.show()\n",
    "\n",
    "#\n",
    "\n",
    "# Define a function to compute the CDF:\n",
    "\n",
    "def cdf(d):\n",
    "    \"\"\"Compute CDF for a one-dimensional array of measurements.\"\"\"\n",
    "\n",
    "    # Number of data points:\n",
    "    n = len(d)\n",
    "\n",
    "    # x-data for the CDF:\n",
    "    x = np.sort(d)\n",
    "\n",
    "    # y-data for the CDF:\n",
    "    y = np.arange(1, n+1) / n\n",
    "\n",
    "    return x, y\n",
    "\n",
    "# Seed the random number generator:\n",
    "np.random.seed(42)\n",
    "\n",
    "# Simulate a random sample with the same statistics and size of 10,000:\n",
    "normal = np.random.normal(t, std, 10000)\n",
    "\n",
    "\n",
    "# Compute the CDFs:\n",
    "x_temp, y_temp = cdf(df.temperature)\n",
    "x_norm, y_norm = cdf(normal)\n",
    "\n",
    "# Plot both CDFs on the same plot:\n",
    "fig = plt.plot(x_norm, y_norm)\n",
    "fig = plt.plot(x_temp, y_temp, marker='.', linestyle='none',color='g')\n",
    "\n",
    "# Label axes and add legend and a title:\n",
    "fig = plt.xlabel('Temperature ($^\\circ$F)')\n",
    "fig = plt.ylabel('CDF')\n",
    "fig = plt.legend(('Normal Distribution', 'Empirical Data'), loc='center right')\n",
    "fig = plt.title('CDF Confirming the Normal Distribution of Body Temperatures')\n",
    "\n",
    "\n",
    "# Save and display the plots:\n",
    "\n",
    "plt.show()"
   ]
  },
  {
   "cell_type": "markdown",
   "metadata": {},
   "source": [
    "# Question no 2:\n",
    "\n",
    "### Is the sample size large? Are the observations independent? \n",
    "\n",
    "Yes, the sample size is large because n = 130, i.e. > 30 (See below). Also, we have seen earlier that there is no missing value. </br>\n",
    "Yes, the observations are independent from each other. </br>\n"
   ]
  },
  {
   "cell_type": "code",
   "execution_count": 41,
   "metadata": {},
   "outputs": [
    {
     "data": {
      "text/plain": [
       "(130, 3)"
      ]
     },
     "execution_count": 41,
     "metadata": {},
     "output_type": "execute_result"
    }
   ],
   "source": [
    "#The data rows and columns:\n",
    "\n",
    "df.shape"
   ]
  },
  {
   "cell_type": "markdown",
   "metadata": {},
   "source": [
    "# Question no 3:\n",
    "## Is the true population mean really 98.6 degrees F? \n",
    "* **First, try a bootstrap hypothesis test.**\n",
    "* **Now, let's try frequentist statistical testing. Would you use a one-sample or two-sample test? Why?**\n",
    "*  **In this situation, is it appropriate to use the  t  or  z  statistic?**\n",
    "* **Now try using the other test. How is the result be different? Why?**"
   ]
  },
  {
   "cell_type": "markdown",
   "metadata": {},
   "source": [
    "## Bootstrap Hypothesis Test"
   ]
  },
  {
   "cell_type": "code",
   "execution_count": 111,
   "metadata": {},
   "outputs": [],
   "source": [
    "population_mean = 98.6\n",
    "temp_sample_mean = np.mean(df.temperature)\n",
    "\n",
    "def draw_bs_replicates(shifted_data, size=1000):\n",
    "    '''Draw bootstrap replicates'''\n",
    "    \n",
    "    bs_replicates = np.empty(size)\n",
    "    \n",
    "    for i in range(size):\n",
    "        bs_replicates[i] = np.mean(np.random.choice(shifted_data, len(shifted_data)))\n",
    "        \n",
    "    return bs_replicates\n",
    "\n",
    "\n",
    "def bs_probability(data, population_mean):\n",
    "    '''Estimates p-value with bootstrap '''\n",
    "    \n",
    "    mean_sample = np.mean(data)\n",
    "    \n",
    "    shifted_data = df.temperature - temp_sample_mean + population_mean\n",
    "    \n",
    "    bs_replicates = draw_bs_replicates(shifted_data, size=10000)\n",
    "    \n",
    "    if population_mean > mean_sample:\n",
    "        p_value = np.sum(bs_replicates <= mean_sample) / len(bs_replicates)\n",
    "    else:\n",
    "        p_value = np.sum(bs_replicates >= mean_sample) / len(bs_replicates)\n",
    "        \n",
    "    return p_value"
   ]
  },
  {
   "cell_type": "code",
   "execution_count": 67,
   "metadata": {},
   "outputs": [
    {
     "data": {
      "text/plain": [
       "0.0"
      ]
     },
     "execution_count": 67,
     "metadata": {},
     "output_type": "execute_result"
    }
   ],
   "source": [
    "bs_probability(df.temperature, population_mean)"
   ]
  },
  {
   "cell_type": "code",
   "execution_count": 71,
   "metadata": {},
   "outputs": [
    {
     "name": "stderr",
     "output_type": "stream",
     "text": [
      "/Users/debisreeray/anaconda3/lib/python3.7/site-packages/matplotlib/axes/_axes.py:6571: UserWarning: The 'normed' kwarg is deprecated, and has been replaced by the 'density' kwarg.\n",
      "  warnings.warn(\"The 'normed' kwarg is deprecated, and has been \"\n"
     ]
    },
    {
     "data": {
      "text/plain": [
       "(array([3.78457060e-03, 0.00000000e+00, 1.13537118e-02, 4.16302766e-02,\n",
       "        1.36244541e-01, 4.39010189e-01, 9.91557496e-01, 1.96419214e+00,\n",
       "        3.56128093e+00, 4.97292576e+00, 5.77525473e+00, 6.24454148e+00,\n",
       "        5.31353712e+00, 3.98515284e+00, 2.36157205e+00, 1.19592431e+00,\n",
       "        5.41193595e-01, 2.19505095e-01, 6.81222707e-02, 1.89228530e-02]),\n",
       " array([98.30461538, 98.33103846, 98.35746154, 98.38388462, 98.41030769,\n",
       "        98.43673077, 98.46315385, 98.48957692, 98.516     , 98.54242308,\n",
       "        98.56884615, 98.59526923, 98.62169231, 98.64811538, 98.67453846,\n",
       "        98.70096154, 98.72738462, 98.75380769, 98.78023077, 98.80665385,\n",
       "        98.83307692]),\n",
       " <a list of 20 Patch objects>)"
      ]
     },
     "execution_count": 71,
     "metadata": {},
     "output_type": "execute_result"
    },
    {
     "data": {
      "image/png": "[encoded data removed]",
      "text/plain": [
       "<Figure size 432x288 with 1 Axes>"
      ]
     },
     "metadata": {},
     "output_type": "display_data"
    }
   ],
   "source": [
    "shifted_data = df.temperature - temp_sample_mean + population_mean\n",
    "bs_reps = draw_bs_replicates(shifted_data, 10000)\n",
    "plt.hist(bs_reps,bins=20, normed=True)"
   ]
  },
  {
   "cell_type": "markdown",
   "metadata": {},
   "source": [
    "So, according to the P value, we can reject the null hypothesis."
   ]
  },
  {
   "cell_type": "markdown",
   "metadata": {},
   "source": [
    "* It would be good to use a 'one-sample test', because one set of data is compared to a single value. For this situation, it is best to use the Z-statistic in this case since sample size > 30. t-statistic is applicable for small sample size (n< 30). \n",
    "\n",
    "**Null Hypothesis:** The true population mean is equal to the conventional mean (98.6$^\\circ$F).\n",
    "\n",
    "$$H_0: \\mu_0 = 98.6$$\n",
    "$$H_a: \\mu \\neq 98.6$$\n",
    "Significance Level: 95.0% Confidence\n",
    "\n",
    "$$\\alpha = 0.05$$\n",
    "\n",
    "If the P value  < $\\alpha$, then Ho will be rejected.\n",
    "\n"
   ]
  },
  {
   "cell_type": "markdown",
   "metadata": {},
   "source": [
    "* **Z-statistic:** </br>\n",
    "\n",
    "\n",
    "Sample mean: $\\bar{x}$ = 98.249231\n",
    "Sample standard deviation: sx = 0.733183\n",
    "Sample count: n = 130\n",
    "\n",
    "**Assumptions:**\n",
    "\n",
    "Assumed population Mean: $\\mu_0$ = 98.6\n",
    "Population standard deviation  $\\sigma$ = ?\n",
    "Estimate with sample standard deviation: $\\sigma$ = $\\frac{ s }{\\sqrt{n}}$ = $\\frac{0.733183}{\\sqrt{130}}$ = 0.064304\n",
    "\n",
    "**Statistic calculation:**\n",
    "\n",
    "z = $\\frac{\\bar{x} - \\mu_0}{\\sigma}$"
   ]
  },
  {
   "cell_type": "code",
   "execution_count": 154,
   "metadata": {},
   "outputs": [
    {
     "name": "stdout",
     "output_type": "stream",
     "text": [
      "The z-score for 98.25 degrees is: -5.475925202078116\n",
      "The p-value is: 2.1761575829410943e-08\n",
      "As, P < 0.05, Ho must be rejected. The true Population mean is not 98.6 F\n"
     ]
    }
   ],
   "source": [
    "def z_stat (data, hyp_mean):\n",
    "    mu_0 = 98.6\n",
    "    x = np.mean(data)\n",
    "    s = np.std(data)\n",
    "    n = len(data)\n",
    "    \n",
    "    # Calculate z-score\n",
    "    z = (x - mu_0)/(s/np.sqrt(n))\n",
    "    \n",
    "    # Calculate p-value\n",
    "    p = stats.norm.cdf(z)\n",
    "    return (z, p)\n",
    "\n",
    "z_all, p_all = z_stat(temp_all, 98.6)\n",
    "print('The z-score for 98.25 degrees is: '+ str(z_all))\n",
    "print('The p-value is: ' +str(p_all))\n",
    "\n",
    "\n",
    "if p_all< 0.05:\n",
    "    print('As, P < 0.05, Ho must be rejected. The true Population mean is not 98.6 F')\n",
    "else:\n",
    "    print('Fail to reject Ho.The true Population mean is 98.6 F.')\n",
    "\n"
   ]
  },
  {
   "cell_type": "markdown",
   "metadata": {},
   "source": [
    "# Question no 4:\n",
    "\n",
    "### Draw a small sample of size 10 from the data and repeat both frequentist tests.\n",
    "* **Which one is the correct one to use?**\n",
    "* **What do you notice? What does this tell you about the difference in application of the  t  and  z  statistic?**\n",
    "\n",
    "For samples of n < 30, one should use a 't-test' instead of a 'z-test'. </br>\n",
    "As seen below, the t-test gives a higher p-value, compared to the z-test.\n"
   ]
  },
  {
   "cell_type": "code",
   "execution_count": 98,
   "metadata": {},
   "outputs": [
    {
     "name": "stdout",
     "output_type": "stream",
     "text": [
      "The Z value for the sample of size 10 from the data: -3.3196414062028854\n",
      "The P value corresponding to the Z value: 0.00045066571963111755\n",
      "The t value for the sample of size 10 from the data: -3.149288357581598\n",
      "The P value corresponding to the t value: 0.011751000921225921\n"
     ]
    }
   ],
   "source": [
    "# Extract sample of size 10 from the data:\n",
    "\n",
    "sample = np.random.choice(temp_all, 10)\n",
    "    \n",
    "# Calculate Z and t statistics with corresponding p-value:\n",
    "\n",
    "z, p_z = z_stat(sample, 98.6)\n",
    "t, p_t = stats.ttest_1samp(sample, 98.6)\n",
    "    \n",
    "print(\"The Z value for the sample of size 10 from the data: \"  + str(z))\n",
    "print(\"The P value corresponding to the Z value: \"  + str(p_z))\n",
    "print(\"The t value for the sample of size 10 from the data: \"  + str(t))\n",
    "print(\"The P value corresponding to the t value: \"  + str(p_t))\n"
   ]
  },
  {
   "cell_type": "markdown",
   "metadata": {},
   "source": [
    "# Question no 5:\n",
    "\n",
    "### At what temperature should we consider someone's temperature to be \"abnormal\"?\n",
    "* **As in the previous example, try calculating everything using the boostrap approach, as well as the frequentist approach.**\n",
    "* **Start by computing the margin of error and confidence interval. When calculating the confidence interval, keep in mind that you should use the appropriate formula for one draw, and not N draws.**"
   ]
  },
  {
   "cell_type": "markdown",
   "metadata": {},
   "source": [
    "The temperature will be considered as 'abnormal' if it is outside of the 95% of the normal distribution. For a 95% confidence interval, we'll use a z-value of 1.65 to calculate the margin of error, where the margin of error is given by z * $\\sigma / \\sqrt{n}$"
   ]
  },
  {
   "cell_type": "code",
   "execution_count": 145,
   "metadata": {},
   "outputs": [
    {
     "name": "stdout",
     "output_type": "stream",
     "text": [
      "2.5 percentile: 98.12433625075155\n",
      "97.5 percentile :98.37486402400931\n"
     ]
    }
   ],
   "source": [
    "# Sample the normal distribution with our data's mean of 98.25 and standard deviation of 0.064\n",
    "sample_distribution = np.random.normal(98.25, 0.064, size = 10000)\n",
    "\n",
    "# 95th percentile\n",
    "percentiles = np.percentile(sample_distribution, [2.5,97.5])\n",
    "\n",
    "print('2.5 percentile: ' + str(percentiles[0]))\n",
    "print('97.5 percentile :' + str(percentiles[1]))                                                         \n",
    "\n"
   ]
  },
  {
   "cell_type": "markdown",
   "metadata": {},
   "source": [
    "* **Bootstrap:**"
   ]
  },
  {
   "cell_type": "code",
   "execution_count": 122,
   "metadata": {},
   "outputs": [
    {
     "name": "stdout",
     "output_type": "stream",
     "text": [
      "95% Confidence interval: [98.12613462 98.37386538]\n"
     ]
    },
    {
     "name": "stderr",
     "output_type": "stream",
     "text": [
      "/Users/debisreeray/anaconda3/lib/python3.7/site-packages/matplotlib/axes/_axes.py:6571: UserWarning: The 'normed' kwarg is deprecated, and has been replaced by the 'density' kwarg.\n",
      "  warnings.warn(\"The 'normed' kwarg is deprecated, and has been \"\n"
     ]
    },
    {
     "data": {
      "image/png": "[encoded data removed]",
      "text/plain": [
       "<Figure size 432x288 with 1 Axes>"
      ]
     },
     "metadata": {},
     "output_type": "display_data"
    }
   ],
   "source": [
    "#Bootstrap\n",
    "# Take 10,000 bootstrap replicates\n",
    "bs_replicates = draw_bs_replicates(temp_all, 10000)\n",
    "\n",
    "#confidence interval\n",
    "conf_int = np.percentile(bs_replicates, [2.5, 97.5])\n",
    "print(\"95% Confidence interval:\", conf_int)\n",
    "\n",
    "# Make a histogram of the results\n",
    "_ = plt.hist(bs_replicates, bins=25,normed = True)\n",
    "_ = plt.xlabel('Mean Body Temperature (F)')\n",
    "_ = plt.ylabel('PDF')\n",
    "\n",
    "# Show the plot\n",
    "plt.show()"
   ]
  },
  {
   "cell_type": "markdown",
   "metadata": {},
   "source": [
    "Temperatures, above and below the confidence interval are considered statistically abnormal. </br>\n",
    "* By the bootstrap method, we got this window as : [ 98.12613462, 98.37386538] (95% Confidence interval)\n",
    "* By the Frequentist Aproach, we got this window as : [ 98.12562091772428, 98.37523537753827] (95% Confidence interval)"
   ]
  },
  {
   "cell_type": "markdown",
   "metadata": {},
   "source": [
    "# Question no 6:\n",
    "\n",
    "**Is there a significant difference between males and females in normal temperature?**\n",
    "* **What testing approach did you use and why?**\n",
    "* **Write a story with your conclusion in the context of the original problem.**\n",
    "\n"
   ]
  },
  {
   "cell_type": "code",
   "execution_count": 144,
   "metadata": {},
   "outputs": [
    {
     "name": "stdout",
     "output_type": "stream",
     "text": [
      "The mean temperature of the males: 98.1046153846154\n",
      "The standard deviation of the temperatures of the males: 0.6933598841828696\n",
      "The mean temperature of the females: 98.39384615384613\n",
      "The standard deviation  of the temperatures of the females: 0.7377464486428966\n",
      "The difference of mean temperatures of males and females :0.289230769230727\n"
     ]
    }
   ],
   "source": [
    "# To explore the differences in male and female temperatures:\n",
    "\n",
    "temp_male = df[df.gender == 'M'].temperature\n",
    "temp_female = df[df.gender == 'F'].temperature\n",
    "\n",
    "mean_male= np.mean(temp_male)\n",
    "std_male= np.std(temp_male)\n",
    "mean_female = np.mean(temp_female)\n",
    "std_female=np.std(temp_female)\n",
    "\n",
    "mean_diff= mean_female-mean_male\n",
    "print('The mean temperature of the males: '+ str(mean_male))\n",
    "print('The standard deviation of the temperatures of the males: '+ str(std_male))\n",
    "print('The mean temperature of the females: ' + str(mean_female))\n",
    "print('The standard deviation  of the temperatures of the females: '+str(std_female))\n",
    "print('The difference of mean temperatures of males and females :' +str(mean_diff))"
   ]
  },
  {
   "cell_type": "code",
   "execution_count": 136,
   "metadata": {},
   "outputs": [
    {
     "data": {
      "image/png": "[encoded data removed]",
      "text/plain": [
       "<Figure size 432x288 with 1 Axes>"
      ]
     },
     "metadata": {},
     "output_type": "display_data"
    }
   ],
   "source": [
    "#Visually by the boxplot and ecdf:\n",
    "\n",
    "_ = sns.boxplot(x= 'Gender', y= 'temperature', data= df)\n",
    "\n",
    "# Label the axes\n",
    "_ = plt.xlabel('Gender')\n",
    "_ = plt.ylabel('Body Temperature')\n",
    "\n",
    "# Show the plot\n",
    "plt.show()"
   ]
  },
  {
   "cell_type": "code",
   "execution_count": 142,
   "metadata": {},
   "outputs": [
    {
     "data": {
      "image/png": "[encoded data removed]",
      "text/plain": [
       "<Figure size 432x288 with 1 Axes>"
      ]
     },
     "metadata": {},
     "output_type": "display_data"
    }
   ],
   "source": [
    "# ECDFs\n",
    "x_m, y_m = cdf(temp_male)\n",
    "x_f, y_f = cdf(temp_female)\n",
    "\n",
    "\n",
    "# Plot all ECDFs on the same plot\n",
    "_ = plt.plot(x_f, y_f, marker = '.', linestyle='none',color='b')\n",
    "_ = plt.plot(x_m, y_m, marker = '.', linestyle='none',color='r')\n",
    "\n",
    "plt.legend(('Females', 'Males'), loc='lower right')\n",
    "_ = plt.xlabel('Body Temperature')\n",
    "_ = plt.ylabel('ECDF')\n",
    "\n",
    "plt.show()"
   ]
  },
  {
   "cell_type": "markdown",
   "metadata": {},
   "source": [
    "* **Hypothesis Testing:**\n",
    "\n",
    "To test if there is a significant difference between the male and female body temperatures, let us use a two-sample t-test. We have two sample distributions (male and female), and a t-test is appropriate given that we do not know the population standard deviations for the two samples.\n",
    "\n",
    "**Null Hypothesis:** There is no difference in male and female temperatures.\n",
    "\n",
    "**Significance Level:** 95.0% Confidence\n",
    "\n",
    "α=0.05\n",
    " \n",
    "If the P value <  α , Ho will be rejected.\n"
   ]
  },
  {
   "cell_type": "code",
   "execution_count": 153,
   "metadata": {},
   "outputs": [
    {
     "name": "stdout",
     "output_type": "stream",
     "text": [
      "P-value for two-sample t-test:  0.02393188312239561\n",
      "As, P < 0.05, Ho must be rejected. There is a significant difference between male and female temperatures.\n"
     ]
    }
   ],
   "source": [
    "from scipy.stats import ttest_ind\n",
    "t, p = ttest_ind(temp_male, temp_female)\n",
    "\n",
    "print('P-value for two-sample t-test: ', p)\n",
    "\n",
    "if p < 0.05:\n",
    "    print('As, P < 0.05, Ho must be rejected. There is a significant difference between male and female temperatures.')\n",
    "else:\n",
    "    print('Fail to reject Ho.  There is no significant difference')"
   ]
  },
  {
   "cell_type": "markdown",
   "metadata": {},
   "source": [
    "### Difference between male and female temperatures:"
   ]
  },
  {
   "cell_type": "code",
   "execution_count": 158,
   "metadata": {},
   "outputs": [
    {
     "name": "stdout",
     "output_type": "stream",
     "text": [
      "The difference of mean temperatures of males and females :0.289230769230727\n",
      "95% confidence interval = [0.04153846 0.53384615] degrees\n"
     ]
    }
   ],
   "source": [
    "\n",
    "print('The difference of mean temperatures of males and females :' +str(mean_diff))\n",
    "\n",
    "# Get bootstrap replicates of means\n",
    "bs_replicates_f = draw_bs_replicates(temp_female, 10000)\n",
    "bs_replicates_m = draw_bs_replicates(temp_male, 10000)\n",
    "\n",
    "# Compute samples of difference of means: bs_diff_replicates\n",
    "bs_diff_replicates = bs_replicates_f - bs_replicates_m\n",
    "\n",
    "# Compute 95% confidence interval: conf_int\n",
    "conf_int = np.percentile(bs_diff_replicates, [2.5, 97.5])\n",
    "\n",
    "\n",
    "print('95% confidence interval =', conf_int, 'degrees')"
   ]
  },
  {
   "cell_type": "markdown",
   "metadata": {},
   "source": [
    "### Conclusions:\n",
    "* Normal temperatures fall within 98.12 to 98.37 degrees\n",
    "* The true mean is within 98.12 to 98.37 degrees (95% confidence interval)\n",
    "* Female body temperatures are higher than male temperatures by approximately 0.289 degrees, with a 95% confidence interval of 0.04 to 0.53 degrees higher."
   ]
  },
  {
   "cell_type": "code",
   "execution_count": null,
   "metadata": {},
   "outputs": [],
   "source": []
  }
 ],
 "metadata": {
  "kernelspec": {
   "display_name": "Python 3",
   "language": "python",
   "name": "python3"
  },
  "language_info": {
   "codemirror_mode": {
    "name": "ipython",
    "version": 3
   },
   "file_extension": ".py",
   "mimetype": "text/x-python",
   "name": "python",
   "nbconvert_exporter": "python",
   "pygments_lexer": "ipython3",
   "version": "3.7.0"
  }
 },
 "nbformat": 4,
 "nbformat_minor": 1
}
